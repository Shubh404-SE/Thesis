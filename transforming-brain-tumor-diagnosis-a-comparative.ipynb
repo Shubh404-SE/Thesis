{
 "cells": [
  {
   "cell_type": "markdown",
   "metadata": {},
   "source": [
    "**Imports**"
   ]
  },
  {
   "cell_type": "code",
   "execution_count": 1,
   "metadata": {},
   "outputs": [],
   "source": [
    "import os\n",
    "import numpy as np\n",
    "import shutil\n",
    "import pandas as pd\n",
    "import nibabel as nib\n",
    "import cv2\n",
    "import SimpleITK as sitk\n",
    "import torch\n",
    "import torch.nn as nn\n",
    "import torch.nn.functional as F\n",
    "import matplotlib.pyplot as plt\n",
    "import torch.optim as optim\n",
    "from skimage.filters import threshold_otsu\n",
    "from scipy.ndimage import binary_fill_holes, gaussian_filter\n",
    "from skimage.morphology import remove_small_objects\n",
    "from tqdm import tqdm\n",
    "from skimage.feature import graycomatrix, graycoprops, local_binary_pattern\n",
    "from skimage import img_as_ubyte\n",
    "from torch.utils.data import Dataset, DataLoader\n",
    "from sklearn.model_selection import train_test_split\n",
    "from sklearn.neighbors import KNeighborsClassifier\n",
    "from sklearn.preprocessing import StandardScaler\n",
    "from sklearn.svm import SVC\n",
    "from sklearn.metrics import accuracy_score, f1_score, matthews_corrcoef, recall_score, precision_score"
   ]
  },
  {
   "cell_type": "code",
   "execution_count": 2,
   "metadata": {},
   "outputs": [],
   "source": [
    "DATASET_PATH = \"./brats2021\"  \n",
    "OUTPUT_PATH = \"./output\"  \n",
    "PREPROCESSED_DATASET = \"./output/train\"  \n",
    "SORTED_OUTPUT = \"./output/splitClasses\"\n",
    "CSV_PATH = \"./train_labels.csv\" \n",
    "SORTED_DATASET = \"./output/splitClasses\" \n",
    "FILTERED_OUTPUT = \"./output/filtered_dataset\"  \n",
    "PREPROCESSED_PATH = \"./output/filtered_dataset\" \n",
    "OUTPUT_FILE_PATH_GLCM = \"./output/features/glcm_features.npz\"\n",
    "OUTPUT_FILE_PATH_HOG = \"./output/features/hog_features.npz\"\n",
    "OUTPUT_FILE_PATH_LBP = \"./output/features/lbp_features.npz\"\n",
    "DLRFE_FILE_PATH = \"./output/features/trained_dlrfe_features.npz\"\n",
    "OUTPUT_FILE_PATH_HFS = \"./output/features/hfs_features.npz\""
   ]
  },
  {
   "cell_type": "markdown",
   "metadata": {},
   "source": [
    "**Preprocessing Steps**"
   ]
  },
  {
   "cell_type": "markdown",
   "metadata": {},
   "source": [
    "**1️⃣ PNG Images  ➝  2️⃣ Stack to NIfTI  ➝  3️⃣ Gaussian Smoothing ➝  4️⃣ Skull Stripping ➝  5️⃣ Normalization ➝  6️⃣ Convert to PNG**\n"
   ]
  },
  {
   "cell_type": "code",
   "execution_count": null,
   "metadata": {
    "execution": {
     "iopub.execute_input": "2025-02-23T09:16:01.155732Z",
     "iopub.status.busy": "2025-02-23T09:16:01.155332Z",
     "iopub.status.idle": "2025-02-23T09:19:22.602347Z",
     "shell.execute_reply": "2025-02-23T09:19:22.600794Z",
     "shell.execute_reply.started": "2025-02-23T09:16:01.155702Z"
    },
    "trusted": true
   },
   "outputs": [
    {
     "name": "stderr",
     "output_type": "stream",
     "text": [
      "Processing train set: 100%|██████████| 585/585 [2:27:40<00:00, 15.15s/it]  \n",
      "Processing test set: 100%|██████████| 87/87 [23:14<00:00, 16.03s/it]"
     ]
    },
    {
     "name": "stdout",
     "output_type": "stream",
     "text": [
      "Preprocessing completed for entire dataset! 🚀\n"
     ]
    },
    {
     "name": "stderr",
     "output_type": "stream",
     "text": [
      "\n"
     ]
    }
   ],
   "source": [
    "class BrainMRIPreprocessor:\n",
    "    def __init__(self, dataset_path, output_path, image_size=(128, 128)):\n",
    "        self.dataset_path = dataset_path\n",
    "        self.output_path = output_path\n",
    "        self.image_size = image_size\n",
    "        self.mri_types = [\"FLAIR\", \"T1w\", \"T1wCE\", \"T2w\"]\n",
    "\n",
    "    \"\"\"Stacks PNG images into a single 3D NIfTI volume.\"\"\"\n",
    "    def stack_images_to_nifti(self, image_folder):\n",
    "\n",
    "        if not os.path.exists(image_folder):\n",
    "            return None\n",
    "        \n",
    "        image_files = sorted([f for f in os.listdir(image_folder) if f.endswith(\".png\")])\n",
    "        if not image_files:\n",
    "            return None\n",
    "\n",
    "        stacked_images = []\n",
    "        for file in image_files:\n",
    "            img = cv2.imread(os.path.join(image_folder, file), cv2.IMREAD_GRAYSCALE)\n",
    "            stacked_images.append(img)\n",
    "\n",
    "        stacked_array = np.stack(stacked_images, axis=-1)  # Stack along last axis (Depth)\n",
    "        return nib.Nifti1Image(stacked_array.astype(np.float32), affine=np.eye(4))\n",
    "\n",
    "    \"\"\"Applies Gaussian smoothing and skull stripping using Otsu's thresholding and morphology.\"\"\"\n",
    "    def skull_strip(self, nifti_img):\n",
    "    \n",
    "        img_data = nifti_img.get_fdata()\n",
    "\n",
    "        # Apply Gaussian Smoothing\n",
    "        smoothed_data = gaussian_filter(img_data, sigma=1)\n",
    "\n",
    "        # Compute Otsu's threshold\n",
    "        threshold = threshold_otsu(smoothed_data)\n",
    "        brain_mask = smoothed_data > (threshold * 0.8)\n",
    "\n",
    "        # Fill holes in the mask and remove small objects\n",
    "        brain_mask = binary_fill_holes(brain_mask)\n",
    "        brain_mask = remove_small_objects(brain_mask, min_size=200)\n",
    "\n",
    "        # Apply the mask to the image\n",
    "        stripped_img = smoothed_data * brain_mask\n",
    "        return nib.Nifti1Image(stripped_img, affine=nifti_img.affine)\n",
    "\n",
    "    \"\"\"Normalizes the intensity while preserving contrast, preventing division errors.\"\"\"\n",
    "    def normalize(self, nifti_img):\n",
    "        \n",
    "        img_data = nifti_img.get_fdata()\n",
    "\n",
    "        min_val, max_val = np.percentile(img_data, (1, 99))  # Exclude extreme outliers\n",
    "    \n",
    "        # Fix division by zero issue\n",
    "        if max_val - min_val == 0:\n",
    "            norm_data = img_data  # Keep original values instead of dividing\n",
    "        else:\n",
    "            norm_data = np.clip((img_data - min_val) / (max_val - min_val + 1e-8), 0, 1)\n",
    "\n",
    "        return nib.Nifti1Image(norm_data, affine=nifti_img.affine)\n",
    "\n",
    "    \"\"\"Saves the most representative slice (middle slice) as the final PNG.\"\"\"\n",
    "    def save_preprocessed_image(self, preprocessed_data, save_path):\n",
    "        \n",
    "        img_data = preprocessed_data.get_fdata()\n",
    "        middle_index = img_data.shape[-1] // 2  # Select middle slice\n",
    "        final_img = (img_data[:, :, middle_index] * 255).astype(np.uint8)\n",
    "        cv2.imwrite(save_path, final_img)\n",
    "\n",
    "    \"\"\"Processes all MRI types for a single patient and saves output.\"\"\"\n",
    "    def process_patient(self, patient_path, output_patient_path):\n",
    "        \n",
    "        os.makedirs(output_patient_path, exist_ok=True)\n",
    "\n",
    "        for mri_type in self.mri_types:\n",
    "            input_mri_path = os.path.join(patient_path, mri_type)\n",
    "            output_mri_path = os.path.join(output_patient_path, mri_type)\n",
    "            os.makedirs(output_mri_path, exist_ok=True)\n",
    "\n",
    "            nifti_img = self.stack_images_to_nifti(input_mri_path)\n",
    "            if nifti_img is None:\n",
    "                continue\n",
    "\n",
    "            # Step 1: Skull Stripping (Includes Gaussian Smoothing)\n",
    "            skull_stripped_nifti = self.skull_strip(nifti_img)\n",
    "\n",
    "            # Step 2: Normalization\n",
    "            normalized_nifti = self.normalize(skull_stripped_nifti)\n",
    "\n",
    "            # Step 3: Save Final Image\n",
    "            final_image_path = os.path.join(output_mri_path, \"preprocessed.png\")\n",
    "            self.save_preprocessed_image(normalized_nifti, final_image_path)\n",
    "\n",
    "    \"\"\"Runs preprocessing on the full dataset (train + test).\"\"\"\n",
    "    def run_preprocessing(self):\n",
    "        \n",
    "        for split in [\"train\", \"test\"]:\n",
    "            split_path = os.path.join(self.dataset_path, split)\n",
    "            output_split_path = os.path.join(self.output_path, split)\n",
    "\n",
    "            patient_folders = sorted(os.listdir(split_path))\n",
    "            for patient in tqdm(patient_folders, desc=f\"Processing {split} set\"):\n",
    "                patient_path = os.path.join(split_path, patient)\n",
    "                output_patient_path = os.path.join(output_split_path, patient)\n",
    "                self.process_patient(patient_path, output_patient_path)\n",
    "\n",
    "        print(\"Preprocessing completed for entire dataset! 🚀\")\n",
    "\n",
    "# ATLAS_PATH = \"./sri24_spm8/templates/T1_brain.nii\"\n",
    "\n",
    "preprocessor = BrainMRIPreprocessor(DATASET_PATH, OUTPUT_PATH)\n",
    "preprocessor.run_preprocessing()"
   ]
  },
  {
   "cell_type": "markdown",
   "metadata": {},
   "source": [
    "**Split dataset in Two classes**"
   ]
  },
  {
   "cell_type": "code",
   "execution_count": null,
   "metadata": {},
   "outputs": [
    {
     "name": "stderr",
     "output_type": "stream",
     "text": [
      "Sorting patients: 100%|██████████| 585/585 [00:03<00:00, 166.80it/s]"
     ]
    },
    {
     "name": "stdout",
     "output_type": "stream",
     "text": [
      "✅ Dataset sorted into MGMT- and MGMT+!\n"
     ]
    },
    {
     "name": "stderr",
     "output_type": "stream",
     "text": [
      "\n"
     ]
    }
   ],
   "source": [
    "class DatasetSorter:\n",
    "    def __init__(self, dataset_path, output_path, csv_path):\n",
    "        self.dataset_path = dataset_path\n",
    "        self.output_path = output_path\n",
    "        self.csv_path = csv_path\n",
    "\n",
    "    def load_patient_classes(self):\n",
    "        \"\"\"Reads the CSV file and returns a dictionary mapping patient IDs to their MGMT class.\"\"\"\n",
    "        df = pd.read_csv(self.csv_path)  # Load CSV\n",
    "        df[\"BraTS21ID\"] = df[\"BraTS21ID\"].astype(str).str.zfill(5)\n",
    "        patient_classes = dict(zip(df[\"BraTS21ID\"], df[\"MGMT_value\"]))\n",
    "        return patient_classes\n",
    "\n",
    "    def sort_patients(self):\n",
    "        \"\"\"Sorts patients into MGMT- and MGMT+ folders based on the CSV file.\"\"\"\n",
    "        patient_classes = self.load_patient_classes()\n",
    "        mgmt_neg_path = os.path.join(self.output_path, \"MGMT-\")\n",
    "        mgmt_pos_path = os.path.join(self.output_path, \"MGMT+\")\n",
    "        os.makedirs(mgmt_neg_path, exist_ok=True)\n",
    "        os.makedirs(mgmt_pos_path, exist_ok=True)\n",
    "\n",
    "        for patient_id in tqdm(os.listdir(self.dataset_path), desc=\"Sorting patients\"):\n",
    "            patient_path = os.path.join(self.dataset_path, patient_id)\n",
    "            if not os.path.isdir(patient_path):\n",
    "                continue \n",
    "            \n",
    "            if patient_id in patient_classes:\n",
    "                class_label = \"MGMT+\" if patient_classes[patient_id] == 1 else \"MGMT-\"\n",
    "                output_class_path = os.path.join(self.output_path, class_label) \n",
    "                shutil.copytree(patient_path, os.path.join(output_class_path, patient_id)) \n",
    "\n",
    "        print(\"✅ Dataset sorted into MGMT- and MGMT+!\")\n",
    "\n",
    "\n",
    "\n",
    "\n",
    "sorter = DatasetSorter(PREPROCESSED_DATASET, SORTED_OUTPUT, CSV_PATH)\n",
    "sorter.sort_patients() "
   ]
  },
  {
   "cell_type": "markdown",
   "metadata": {},
   "source": [
    "**Rejection Algo**"
   ]
  },
  {
   "cell_type": "code",
   "execution_count": 5,
   "metadata": {},
   "outputs": [
    {
     "name": "stderr",
     "output_type": "stream",
     "text": [
      "Processing MGMT-: 100%|██████████| 278/278 [00:03<00:00, 89.19it/s] \n"
     ]
    },
    {
     "name": "stdout",
     "output_type": "stream",
     "text": [
      "✅ Rejection completed for MGMT-: 181 images removed.\n"
     ]
    },
    {
     "name": "stderr",
     "output_type": "stream",
     "text": [
      "Processing MGMT+: 100%|██████████| 307/307 [00:03<00:00, 92.78it/s] "
     ]
    },
    {
     "name": "stdout",
     "output_type": "stream",
     "text": [
      "✅ Rejection completed for MGMT+: 195 images removed.\n",
      "✅ Rejection Algorithm completed for the entire dataset!\n"
     ]
    },
    {
     "name": "stderr",
     "output_type": "stream",
     "text": [
      "\n"
     ]
    }
   ],
   "source": [
    "class RejectionAlgorithm:\n",
    "    def __init__(self, dataset_path, output_path, pixel_sum_threshold=500, brain_area_threshold=0.02):\n",
    "        \"\"\"\n",
    "        dataset_path: Path to sorted dataset (MGMT- and MGMT+)\n",
    "        output_path: Path to save the filtered dataset\n",
    "        pixel_sum_threshold: Minimum sum of pixel values to keep an image\n",
    "        brain_area_threshold: Minimum fraction of nonzero pixels (relative to total area)\n",
    "        \"\"\"\n",
    "        self.dataset_path = dataset_path\n",
    "        self.output_path = output_path\n",
    "        self.pixel_sum_threshold = pixel_sum_threshold  # Reject images with very low total intensity\n",
    "        self.brain_area_threshold = brain_area_threshold  # Reject images with very small visible brain area\n",
    "        self.classes = [\"MGMT-\", \"MGMT+\"]  # Process both MGMT- and MGMT+ classes\n",
    "\n",
    "    def process_class(self, class_label):\n",
    "        \"\"\"Processes a single class (MGMT- or MGMT+) and removes low-quality images.\"\"\"\n",
    "        input_class_path = os.path.join(self.dataset_path, class_label)\n",
    "        output_class_path = os.path.join(self.output_path, class_label)\n",
    "        os.makedirs(output_class_path, exist_ok=True)\n",
    "\n",
    "        rejected_count = 0\n",
    "        rejected_files = []\n",
    "\n",
    "        for patient in tqdm(sorted(os.listdir(input_class_path)), desc=f\"Processing {class_label}\"):\n",
    "            patient_path = os.path.join(input_class_path, patient)\n",
    "            output_patient_path = os.path.join(output_class_path, patient)\n",
    "            os.makedirs(output_patient_path, exist_ok=True)\n",
    "\n",
    "            for mri_type in [\"FLAIR\", \"T1w\", \"T1wCE\", \"T2w\"]:\n",
    "                input_mri_path = os.path.join(patient_path, mri_type)\n",
    "                output_mri_path = os.path.join(output_patient_path, mri_type)\n",
    "                os.makedirs(output_mri_path, exist_ok=True)\n",
    "\n",
    "                if not os.path.exists(input_mri_path):\n",
    "                    continue\n",
    "\n",
    "                valid_images = 0  # Track number of valid images in this folder\n",
    "\n",
    "                for img_file in sorted(os.listdir(input_mri_path)):\n",
    "                    if not img_file.endswith(\".png\"):\n",
    "                        continue\n",
    "\n",
    "                    img_path = os.path.join(input_mri_path, img_file)\n",
    "                    img = cv2.imread(img_path, cv2.IMREAD_GRAYSCALE)\n",
    "\n",
    "                    # Compute sum of pixel values\n",
    "                    pixel_sum = np.sum(img)\n",
    "\n",
    "                    # Compute brain area (percentage of nonzero pixels)\n",
    "                    brain_area = np.count_nonzero(img) / img.size  # Fraction of nonzero pixels\n",
    "\n",
    "                    # Check if image should be rejected\n",
    "                    if pixel_sum < self.pixel_sum_threshold or brain_area < self.brain_area_threshold:\n",
    "                        rejected_count += 1\n",
    "                        rejected_files.append(img_path)\n",
    "                    else:\n",
    "                        # Copy valid image to output directory\n",
    "                        output_img_path = os.path.join(output_mri_path, img_file)\n",
    "                        shutil.copy2(img_path, output_img_path)\n",
    "                        valid_images += 1  # Increase valid image count\n",
    "\n",
    "                # Remove empty MRI type folder if no images remain\n",
    "                if valid_images == 0:\n",
    "                    shutil.rmtree(output_mri_path)\n",
    "\n",
    "        print(f\"✅ Rejection completed for {class_label}: {rejected_count} images removed.\")\n",
    "\n",
    "        # Save log of rejected images\n",
    "        log_path = os.path.join(self.output_path, f\"rejected_{class_label}.txt\")\n",
    "        with open(log_path, \"w\") as log_file:\n",
    "            for file in rejected_files:\n",
    "                log_file.write(file + \"\\n\")\n",
    "\n",
    "    def run_rejection(self):\n",
    "        \"\"\"Runs the rejection algorithm for both MGMT- and MGMT+ classes.\"\"\"\n",
    "        os.makedirs(self.output_path, exist_ok=True)\n",
    "\n",
    "        for class_label in self.classes:\n",
    "            self.process_class(class_label)\n",
    "\n",
    "        print(\"✅ Rejection Algorithm completed for the entire dataset!\")\n",
    "\n",
    "\n",
    "\n",
    "rejection = RejectionAlgorithm(SORTED_DATASET, FILTERED_OUTPUT)\n",
    "rejection.run_rejection() \n"
   ]
  },
  {
   "cell_type": "markdown",
   "metadata": {},
   "source": [
    "**GLCM feature extraction module**"
   ]
  },
  {
   "cell_type": "code",
   "execution_count": 6,
   "metadata": {},
   "outputs": [
    {
     "name": "stderr",
     "output_type": "stream",
     "text": [
      "Extracting GLCM for MGMT-: 100%|██████████| 278/278 [00:53<00:00,  5.24it/s]\n",
      "Extracting GLCM for MGMT+: 100%|██████████| 307/307 [01:01<00:00,  5.02it/s]"
     ]
    },
    {
     "name": "stdout",
     "output_type": "stream",
     "text": [
      "GLCM feature extraction completed! Saved to ./output/features/glcm_features.npz\n"
     ]
    },
    {
     "name": "stderr",
     "output_type": "stream",
     "text": [
      "\n"
     ]
    }
   ],
   "source": [
    "class GLCMExtractor:\n",
    "    def __init__(self, preprocessed_path, output_file_path, image_size=(128, 128), \n",
    "                 distances=[1], angles=[0, np.pi/4, np.pi/2, 3*np.pi/4], levels=256):\n",
    "        \"\"\"\n",
    "        Initializes the GLCM extractor with:\n",
    "        - preprocessed_path: Path to MRI images\n",
    "        - output_file_path: Single .npz file for output\n",
    "        - image_size: Input image size (default: 128x128)\n",
    "        - distances: List of pixel distances (default: [1])\n",
    "        - angles: List of angles in radians (0°, 45°, 90°, 135°)\n",
    "        - levels: Number of gray levels (default: 256)\n",
    "        \"\"\"\n",
    "        self.preprocessed_path = preprocessed_path\n",
    "        self.output_file_path = output_file_path\n",
    "        self.image_size = image_size\n",
    "        self.mri_types = [\"FLAIR\", \"T1w\", \"T1wCE\", \"T2w\"]\n",
    "        self.distances = distances\n",
    "        self.angles = angles\n",
    "        self.levels = levels\n",
    "        self.properties = ['energy', 'contrast', 'correlation', 'homogeneity'] \n",
    "\n",
    "    def compute_glcm(self, image):\n",
    "        \"\"\"Computes GLCM for an image using scikit-image.\"\"\"\n",
    "        # Convert to 8-bit integer for graycomatrix\n",
    "        gray_img = img_as_ubyte(image)\n",
    "        # Compute GLCM for multiple distances and angles\n",
    "        glcm = graycomatrix(gray_img, distances=self.distances, angles=self.angles, \n",
    "                            levels=self.levels, symmetric=True, normed=True)\n",
    "        return glcm  # Shape: (levels, levels, n_distances, n_angles)\n",
    "\n",
    "    def compute_features(self, glcm):\n",
    "        \"\"\"Computes Haralick-like features, averaging over distances and angles.\"\"\"\n",
    "        features = []\n",
    "        # scikit-image properties\n",
    "        for prop in self.properties:\n",
    "            feat = graycoprops(glcm, prop)  # Shape: (n_distances, n_angles)\n",
    "            features.append(feat.ravel())   # Flatten to 1D\n",
    "\n",
    "        # Stack basic features (energy, contrast, correlation, homogeneity)\n",
    "        basic_features = np.concatenate(features)  # Shape: (4 * n_distances * n_angles)\n",
    "\n",
    "        # Additional Haralick features (computed manually)\n",
    "        px = np.sum(glcm, axis=1)  # Row probabilities\n",
    "        py = np.sum(glcm, axis=0)  # Column probabilities\n",
    "        mean_x = np.sum(np.arange(self.levels)[:, None, None] * px, axis=0)\n",
    "        mean_y = np.sum(np.arange(self.levels)[None, :, None] * py, axis=1)\n",
    "        std_x = np.sqrt(np.sum(((np.arange(self.levels)[:, None, None] - mean_x) ** 2) * px, axis=0))\n",
    "        std_y = np.sqrt(np.sum(((np.arange(self.levels)[None, :, None] - mean_y) ** 2) * py, axis=1))\n",
    "\n",
    "        # Compute for each distance-angle pair\n",
    "        extra_features = []\n",
    "        for d in range(len(self.distances)):\n",
    "            for a in range(len(self.angles)):\n",
    "                g = glcm[:, :, d, a]\n",
    "                px_g = px[:, d, a]\n",
    "                py_g = py[:, d, a]\n",
    "                mx = mean_x[d, a]\n",
    "                my = mean_y[d, a]\n",
    "                sx = std_x[d, a]\n",
    "                sy = std_y[d, a]\n",
    "\n",
    "                # Sum Average\n",
    "                sum_avg = np.sum((np.arange(self.levels) + 1) * px_g)\n",
    "                # Sum Variance\n",
    "                sum_var = np.sum(((np.arange(self.levels) + 1 - sum_avg) ** 2) * px_g)\n",
    "                # Sum Entropy\n",
    "                sum_entropy = -np.sum(px_g * np.log2(px_g + 1e-8))\n",
    "                # Entropy\n",
    "                entropy = -np.sum(g * np.log2(g + 1e-8))\n",
    "                # Difference Variance (simplified)\n",
    "                diff_var = np.sum((np.arange(self.levels) ** 2) * px_g)\n",
    "                # Difference Entropy\n",
    "                diff_entropy = -np.sum(px_g * np.log2(px_g + 1e-8))\n",
    "                # Information Measures (simplified)\n",
    "                hxy = entropy\n",
    "                hxy1 = -np.sum(g * np.log2(px_g[:, None] * py_g[None, :] + 1e-8))\n",
    "                hxy2 = -np.sum(px_g[:, None] * py_g[None, :] * np.log2(px_g[:, None] * py_g[None, :] + 1e-8))\n",
    "                imc1 = (hxy - hxy1) / (hxy + 1e-8)\n",
    "                imc2 = np.sqrt(1 - np.exp(-2 * (hxy2 - hxy)))\n",
    "\n",
    "                extra_features.append([sum_avg, sum_var, sum_entropy, entropy, diff_var, diff_entropy, imc1, imc2])\n",
    "\n",
    "        extra_features = np.mean(extra_features, axis=0)  # Average over directions\n",
    "        return np.concatenate([basic_features, extra_features])  # Total: 4*4 + 8 = 24 features\n",
    "\n",
    "    def load_and_process_image(self, patient_path, mri_type):\n",
    "        \"\"\"Loads and processes a single MRI image.\"\"\"\n",
    "        img_path = os.path.join(patient_path, mri_type, \"preprocessed.png\")\n",
    "        if os.path.exists(img_path):\n",
    "            img = cv2.imread(img_path, cv2.IMREAD_GRAYSCALE)\n",
    "            if img.shape != self.image_size:\n",
    "                img = cv2.resize(img, self.image_size)\n",
    "            return img.astype(np.float32) / 255.0\n",
    "        else:\n",
    "            # print(f\"Warning: Missing {img_path}, using zero image\")\n",
    "            return np.zeros(self.image_size, dtype=np.float32)\n",
    "\n",
    "    def process_patient(self, patient_path, label):\n",
    "        \"\"\"Processes a single patient and returns GLCM features.\"\"\"\n",
    "        try:\n",
    "            patient_features = []\n",
    "            for mri_type in self.mri_types:\n",
    "                img = self.load_and_process_image(patient_path, mri_type)\n",
    "                glcm = self.compute_glcm(img)\n",
    "                glcm_feats = self.compute_features(glcm)\n",
    "                patient_features.append(glcm_feats)\n",
    "            \n",
    "            # Stack features: 4 modalities * 24 features = 96 features\n",
    "            combined_features = np.concatenate(patient_features)\n",
    "            patient_id = os.path.basename(patient_path)\n",
    "            return {'patient_id': patient_id, 'features': combined_features, 'label': label}\n",
    "        except Exception as e:\n",
    "            print(f\"Error processing {patient_path}: {e}\")\n",
    "            return None\n",
    "\n",
    "    def run_extraction(self):\n",
    "        \"\"\"Runs GLCM feature extraction and saves to a single .npz file.\"\"\"\n",
    "        all_data = []\n",
    "        for mgmt_status in [\"MGMT-\", \"MGMT+\"]:\n",
    "            mgmt_path = os.path.join(self.preprocessed_path, mgmt_status)\n",
    "            label = 0 if mgmt_status == \"MGMT-\" else 1\n",
    "\n",
    "            if not os.path.exists(mgmt_path):\n",
    "                print(f\"Skipping {mgmt_status}: directory not found.\")\n",
    "                continue\n",
    "\n",
    "            patient_folders = sorted(os.listdir(mgmt_path))\n",
    "            for patient in tqdm(patient_folders, desc=f\"Extracting GLCM for {mgmt_status}\"):\n",
    "                patient_path = os.path.join(mgmt_path, patient)\n",
    "                patient_data = self.process_patient(patient_path, label)\n",
    "                if patient_data is not None:\n",
    "                    all_data.append(patient_data)\n",
    "\n",
    "        patient_ids = np.array([data['patient_id'] for data in all_data])\n",
    "        features = np.array([data['features'] for data in all_data])  # Shape: (n_patients, 96)\n",
    "        labels = np.array([data['label'] for data in all_data])\n",
    "        np.savez(self.output_file_path, patient_ids=patient_ids, features=features, labels=labels)\n",
    "        print(f\"GLCM feature extraction completed! Saved to {self.output_file_path}\")\n",
    "\n",
    "\n",
    "extractor = GLCMExtractor(FILTERED_OUTPUT, OUTPUT_FILE_PATH_GLCM)\n",
    "extractor.run_extraction()"
   ]
  },
  {
   "cell_type": "code",
   "execution_count": 7,
   "metadata": {},
   "outputs": [
    {
     "name": "stdout",
     "output_type": "stream",
     "text": [
      "Patient: 00000\n",
      "GLCM Features Shape: (96,)\n",
      "GLCM Features (first 10): [  0.85692088   0.8534998    0.85661329   0.85362326 190.19082185\n",
      " 318.87717775 211.3058563  325.90526381   0.9634317    0.93909864]\n",
      "Label: 1\n"
     ]
    }
   ],
   "source": [
    "def check_glcm_features(npz_file_path, patient_id):\n",
    "    data = np.load(npz_file_path)\n",
    "    patient_ids = data['patient_ids']\n",
    "    features = data['features']\n",
    "    labels = data['labels']\n",
    "    \n",
    "    try:\n",
    "        idx = np.where(patient_ids == patient_id)[0][0]\n",
    "        print(f\"Patient: {patient_id}\")\n",
    "        print(f\"GLCM Features Shape: {features[idx].shape}\")  # Should be (96,)\n",
    "        print(f\"GLCM Features (first 10): {features[idx][:10]}\")  # Sample\n",
    "        print(f\"Label: {labels[idx]}\")\n",
    "    except IndexError:\n",
    "        print(f\"Patient {patient_id} not found.\")\n",
    "\n",
    "PATIENT_ID = \"00000\"  \n",
    "check_glcm_features(OUTPUT_FILE_PATH_GLCM, PATIENT_ID)"
   ]
  },
  {
   "cell_type": "markdown",
   "metadata": {},
   "source": [
    "***HOG features***"
   ]
  },
  {
   "cell_type": "code",
   "execution_count": 8,
   "metadata": {},
   "outputs": [
    {
     "name": "stderr",
     "output_type": "stream",
     "text": [
      "Extracting HOG for MGMT-:   0%|          | 0/278 [00:00<?, ?it/s]"
     ]
    },
    {
     "name": "stderr",
     "output_type": "stream",
     "text": [
      "Extracting HOG for MGMT-:   4%|▍         | 12/278 [00:00<00:20, 13.23it/s]"
     ]
    },
    {
     "name": "stdout",
     "output_type": "stream",
     "text": [
      "Skipping ./output/filtered_dataset\\MGMT-\\00036\\FLAIR\\preprocessed.png: Missing modality\n",
      "Skipping ./output/filtered_dataset\\MGMT-\\00045\\FLAIR\\preprocessed.png: Missing modality\n"
     ]
    },
    {
     "name": "stderr",
     "output_type": "stream",
     "text": [
      "Extracting HOG for MGMT-:   6%|▋         | 18/278 [00:01<00:17, 15.03it/s]"
     ]
    },
    {
     "name": "stdout",
     "output_type": "stream",
     "text": [
      "Skipping ./output/filtered_dataset\\MGMT-\\00061\\FLAIR\\preprocessed.png: Missing modality\n"
     ]
    },
    {
     "name": "stderr",
     "output_type": "stream",
     "text": [
      "Extracting HOG for MGMT-:  14%|█▎        | 38/278 [00:02<00:16, 14.50it/s]"
     ]
    },
    {
     "name": "stdout",
     "output_type": "stream",
     "text": [
      "Skipping ./output/filtered_dataset\\MGMT-\\00123\\T1w\\preprocessed.png: Missing modality\n",
      "Skipping ./output/filtered_dataset\\MGMT-\\00130\\T1w\\preprocessed.png: Missing modality\n"
     ]
    },
    {
     "name": "stderr",
     "output_type": "stream",
     "text": [
      "Extracting HOG for MGMT-:  20%|█▉        | 55/278 [00:04<00:11, 19.18it/s]"
     ]
    },
    {
     "name": "stdout",
     "output_type": "stream",
     "text": [
      "Skipping ./output/filtered_dataset\\MGMT-\\00158\\T1w\\preprocessed.png: Missing modality\n",
      "Skipping ./output/filtered_dataset\\MGMT-\\00162\\T1w\\preprocessed.png: Missing modality\n",
      "Skipping ./output/filtered_dataset\\MGMT-\\00165\\T1w\\preprocessed.png: Missing modality\n",
      "Skipping ./output/filtered_dataset\\MGMT-\\00167\\T1w\\preprocessed.png: Missing modality\n",
      "Skipping ./output/filtered_dataset\\MGMT-\\00169\\T1w\\preprocessed.png: Missing modality\n",
      "Skipping ./output/filtered_dataset\\MGMT-\\00172\\T1w\\preprocessed.png: Missing modality\n"
     ]
    },
    {
     "name": "stderr",
     "output_type": "stream",
     "text": [
      "Extracting HOG for MGMT-:  22%|██▏       | 62/278 [00:04<00:11, 18.86it/s]"
     ]
    },
    {
     "name": "stdout",
     "output_type": "stream",
     "text": [
      "Skipping ./output/filtered_dataset\\MGMT-\\00191\\T1w\\preprocessed.png: Missing modality\n",
      "Skipping ./output/filtered_dataset\\MGMT-\\00192\\T1w\\preprocessed.png: Missing modality\n"
     ]
    },
    {
     "name": "stderr",
     "output_type": "stream",
     "text": [
      "Extracting HOG for MGMT-:  24%|██▎       | 66/278 [00:04<00:12, 16.69it/s]"
     ]
    },
    {
     "name": "stdout",
     "output_type": "stream",
     "text": [
      "Skipping ./output/filtered_dataset\\MGMT-\\00195\\T1w\\preprocessed.png: Missing modality\n"
     ]
    },
    {
     "name": "stderr",
     "output_type": "stream",
     "text": [
      "Extracting HOG for MGMT-:  27%|██▋       | 76/278 [00:05<00:11, 17.24it/s]"
     ]
    },
    {
     "name": "stdout",
     "output_type": "stream",
     "text": [
      "Skipping ./output/filtered_dataset\\MGMT-\\00219\\T1w\\preprocessed.png: Missing modality\n",
      "Skipping ./output/filtered_dataset\\MGMT-\\00221\\T1w\\preprocessed.png: Missing modality\n",
      "Skipping ./output/filtered_dataset\\MGMT-\\00227\\T1w\\preprocessed.png: Missing modality\n",
      "Skipping ./output/filtered_dataset\\MGMT-\\00231\\T1w\\preprocessed.png: Missing modality\n",
      "Skipping ./output/filtered_dataset\\MGMT-\\00236\\T1w\\preprocessed.png: Missing modality\n"
     ]
    },
    {
     "name": "stderr",
     "output_type": "stream",
     "text": [
      "Extracting HOG for MGMT-:  29%|██▉       | 81/278 [00:05<00:09, 21.30it/s]"
     ]
    },
    {
     "name": "stdout",
     "output_type": "stream",
     "text": [
      "Skipping ./output/filtered_dataset\\MGMT-\\00237\\T1w\\preprocessed.png: Missing modality\n",
      "Skipping ./output/filtered_dataset\\MGMT-\\00238\\T1w\\preprocessed.png: Missing modality\n"
     ]
    },
    {
     "name": "stderr",
     "output_type": "stream",
     "text": [
      "Extracting HOG for MGMT-:  30%|███       | 84/278 [00:05<00:10, 18.80it/s]"
     ]
    },
    {
     "name": "stdout",
     "output_type": "stream",
     "text": [
      "Skipping ./output/filtered_dataset\\MGMT-\\00242\\T1wCE\\preprocessed.png: Missing modality\n",
      "Skipping ./output/filtered_dataset\\MGMT-\\00249\\T1w\\preprocessed.png: Missing modality\n"
     ]
    },
    {
     "name": "stderr",
     "output_type": "stream",
     "text": [
      "Extracting HOG for MGMT-:  33%|███▎      | 91/278 [00:06<00:11, 16.89it/s]"
     ]
    },
    {
     "name": "stdout",
     "output_type": "stream",
     "text": [
      "Skipping ./output/filtered_dataset\\MGMT-\\00261\\T1w\\preprocessed.png: Missing modality\n",
      "Skipping ./output/filtered_dataset\\MGMT-\\00266\\T1w\\preprocessed.png: Missing modality\n",
      "Skipping ./output/filtered_dataset\\MGMT-\\00267\\T1w\\preprocessed.png: Missing modality\n"
     ]
    },
    {
     "name": "stderr",
     "output_type": "stream",
     "text": [
      "Extracting HOG for MGMT-:  36%|███▌      | 99/278 [00:06<00:08, 20.32it/s]"
     ]
    },
    {
     "name": "stdout",
     "output_type": "stream",
     "text": [
      "Skipping ./output/filtered_dataset\\MGMT-\\00274\\T1w\\preprocessed.png: Missing modality\n",
      "Skipping ./output/filtered_dataset\\MGMT-\\00280\\T1w\\preprocessed.png: Missing modality\n",
      "Skipping ./output/filtered_dataset\\MGMT-\\00283\\T1w\\preprocessed.png: Missing modality\n"
     ]
    },
    {
     "name": "stderr",
     "output_type": "stream",
     "text": [
      "Extracting HOG for MGMT-:  37%|███▋      | 102/278 [00:06<00:08, 21.37it/s]"
     ]
    },
    {
     "name": "stdout",
     "output_type": "stream",
     "text": [
      "Skipping ./output/filtered_dataset\\MGMT-\\00288\\T1w\\preprocessed.png: Missing modality\n",
      "Skipping ./output/filtered_dataset\\MGMT-\\00289\\T1w\\preprocessed.png: Missing modality\n",
      "Skipping ./output/filtered_dataset\\MGMT-\\00297\\T1wCE\\preprocessed.png: Missing modality\n",
      "Skipping ./output/filtered_dataset\\MGMT-\\00298\\T1w\\preprocessed.png: Missing modality\n",
      "Skipping ./output/filtered_dataset\\MGMT-\\00300\\T1w\\preprocessed.png: Missing modality\n"
     ]
    },
    {
     "name": "stderr",
     "output_type": "stream",
     "text": [
      "Extracting HOG for MGMT-:  39%|███▉      | 109/278 [00:06<00:06, 25.30it/s]"
     ]
    },
    {
     "name": "stdout",
     "output_type": "stream",
     "text": [
      "Skipping ./output/filtered_dataset\\MGMT-\\00301\\T1w\\preprocessed.png: Missing modality\n",
      "Skipping ./output/filtered_dataset\\MGMT-\\00309\\T1w\\preprocessed.png: Missing modality\n",
      "Skipping ./output/filtered_dataset\\MGMT-\\00310\\T1w\\preprocessed.png: Missing modality\n",
      "Skipping ./output/filtered_dataset\\MGMT-\\00312\\T1wCE\\preprocessed.png: Missing modality\n",
      "Skipping ./output/filtered_dataset\\MGMT-\\00314\\T1w\\preprocessed.png: Missing modality\n"
     ]
    },
    {
     "name": "stderr",
     "output_type": "stream",
     "text": [
      "Extracting HOG for MGMT-:  41%|████      | 113/278 [00:07<00:06, 24.88it/s]"
     ]
    },
    {
     "name": "stdout",
     "output_type": "stream",
     "text": [
      "Skipping ./output/filtered_dataset\\MGMT-\\00316\\T1w\\preprocessed.png: Missing modality\n",
      "Skipping ./output/filtered_dataset\\MGMT-\\00324\\T1w\\preprocessed.png: Missing modality\n"
     ]
    },
    {
     "name": "stderr",
     "output_type": "stream",
     "text": [
      "Extracting HOG for MGMT-:  43%|████▎     | 119/278 [00:07<00:07, 19.91it/s]"
     ]
    },
    {
     "name": "stdout",
     "output_type": "stream",
     "text": [
      "Skipping ./output/filtered_dataset\\MGMT-\\00327\\T1w\\preprocessed.png: Missing modality\n",
      "Skipping ./output/filtered_dataset\\MGMT-\\00341\\T1w\\preprocessed.png: Missing modality\n"
     ]
    },
    {
     "name": "stderr",
     "output_type": "stream",
     "text": [
      "Extracting HOG for MGMT-:  45%|████▍     | 125/278 [00:07<00:07, 19.19it/s]"
     ]
    },
    {
     "name": "stdout",
     "output_type": "stream",
     "text": [
      "Skipping ./output/filtered_dataset\\MGMT-\\00346\\T1w\\preprocessed.png: Missing modality\n",
      "Skipping ./output/filtered_dataset\\MGMT-\\00347\\T1w\\preprocessed.png: Missing modality\n"
     ]
    },
    {
     "name": "stderr",
     "output_type": "stream",
     "text": [
      "Extracting HOG for MGMT-:  47%|████▋     | 131/278 [00:08<00:07, 20.77it/s]"
     ]
    },
    {
     "name": "stdout",
     "output_type": "stream",
     "text": [
      "Skipping ./output/filtered_dataset\\MGMT-\\00353\\T1w\\preprocessed.png: Missing modality\n",
      "Skipping ./output/filtered_dataset\\MGMT-\\00356\\T1wCE\\preprocessed.png: Missing modality\n",
      "Skipping ./output/filtered_dataset\\MGMT-\\00373\\T1w\\preprocessed.png: Missing modality\n",
      "Skipping ./output/filtered_dataset\\MGMT-\\00376\\T1w\\preprocessed.png: Missing modality\n",
      "Skipping ./output/filtered_dataset\\MGMT-\\00378\\T1w\\preprocessed.png: Missing modality\n",
      "Skipping ./output/filtered_dataset\\MGMT-\\00379\\T1w\\preprocessed.png: Missing modality\n"
     ]
    },
    {
     "name": "stderr",
     "output_type": "stream",
     "text": [
      "Extracting HOG for MGMT-:  49%|████▉     | 136/278 [00:08<00:05, 23.83it/s]"
     ]
    },
    {
     "name": "stdout",
     "output_type": "stream",
     "text": [
      "Skipping ./output/filtered_dataset\\MGMT-\\00380\\T1w\\preprocessed.png: Missing modality\n",
      "Skipping ./output/filtered_dataset\\MGMT-\\00382\\T1w\\preprocessed.png: Missing modality\n"
     ]
    },
    {
     "name": "stderr",
     "output_type": "stream",
     "text": [
      "Extracting HOG for MGMT-:  51%|█████     | 142/278 [00:08<00:07, 18.08it/s]"
     ]
    },
    {
     "name": "stdout",
     "output_type": "stream",
     "text": [
      "Skipping ./output/filtered_dataset\\MGMT-\\00391\\T1w\\preprocessed.png: Missing modality\n",
      "Skipping ./output/filtered_dataset\\MGMT-\\00392\\T1w\\preprocessed.png: Missing modality\n",
      "Skipping ./output/filtered_dataset\\MGMT-\\00397\\T1w\\preprocessed.png: Missing modality\n"
     ]
    },
    {
     "name": "stderr",
     "output_type": "stream",
     "text": [
      "Extracting HOG for MGMT-:  55%|█████▍    | 152/278 [00:09<00:05, 21.58it/s]"
     ]
    },
    {
     "name": "stdout",
     "output_type": "stream",
     "text": [
      "Skipping ./output/filtered_dataset\\MGMT-\\00407\\T1w\\preprocessed.png: Missing modality\n",
      "Skipping ./output/filtered_dataset\\MGMT-\\00410\\T1w\\preprocessed.png: Missing modality\n",
      "Skipping ./output/filtered_dataset\\MGMT-\\00412\\T1w\\preprocessed.png: Missing modality\n",
      "Skipping ./output/filtered_dataset\\MGMT-\\00414\\T1wCE\\preprocessed.png: Missing modality\n",
      "Skipping ./output/filtered_dataset\\MGMT-\\00417\\T1w\\preprocessed.png: Missing modality\n"
     ]
    },
    {
     "name": "stderr",
     "output_type": "stream",
     "text": [
      "Extracting HOG for MGMT-:  57%|█████▋    | 158/278 [00:09<00:05, 20.60it/s]"
     ]
    },
    {
     "name": "stdout",
     "output_type": "stream",
     "text": [
      "Skipping ./output/filtered_dataset\\MGMT-\\00421\\T1w\\preprocessed.png: Missing modality\n",
      "Skipping ./output/filtered_dataset\\MGMT-\\00423\\T1w\\preprocessed.png: Missing modality\n",
      "Skipping ./output/filtered_dataset\\MGMT-\\00430\\T1w\\preprocessed.png: Missing modality\n"
     ]
    },
    {
     "name": "stderr",
     "output_type": "stream",
     "text": [
      "Extracting HOG for MGMT-:  60%|█████▉    | 166/278 [00:10<00:06, 16.40it/s]"
     ]
    },
    {
     "name": "stdout",
     "output_type": "stream",
     "text": [
      "Skipping ./output/filtered_dataset\\MGMT-\\00452\\T1w\\preprocessed.png: Missing modality\n",
      "Skipping ./output/filtered_dataset\\MGMT-\\00454\\T1wCE\\preprocessed.png: Missing modality\n"
     ]
    },
    {
     "name": "stderr",
     "output_type": "stream",
     "text": [
      "Extracting HOG for MGMT-:  61%|██████    | 169/278 [00:10<00:06, 16.64it/s]"
     ]
    },
    {
     "name": "stdout",
     "output_type": "stream",
     "text": [
      "Skipping ./output/filtered_dataset\\MGMT-\\00464\\FLAIR\\preprocessed.png: Missing modality\n",
      "Skipping ./output/filtered_dataset\\MGMT-\\00481\\FLAIR\\preprocessed.png: Missing modality\n"
     ]
    },
    {
     "name": "stderr",
     "output_type": "stream",
     "text": [
      "Extracting HOG for MGMT-:  66%|██████▌   | 183/278 [00:10<00:03, 23.77it/s]"
     ]
    },
    {
     "name": "stdout",
     "output_type": "stream",
     "text": [
      "Skipping ./output/filtered_dataset\\MGMT-\\00510\\FLAIR\\preprocessed.png: Missing modality\n",
      "Skipping ./output/filtered_dataset\\MGMT-\\00512\\FLAIR\\preprocessed.png: Missing modality\n",
      "Skipping ./output/filtered_dataset\\MGMT-\\00514\\T1w\\preprocessed.png: Missing modality\n",
      "Skipping ./output/filtered_dataset\\MGMT-\\00518\\FLAIR\\preprocessed.png: Missing modality\n",
      "Skipping ./output/filtered_dataset\\MGMT-\\00519\\FLAIR\\preprocessed.png: Missing modality\n",
      "Skipping ./output/filtered_dataset\\MGMT-\\00533\\FLAIR\\preprocessed.png: Missing modality\n",
      "Skipping ./output/filtered_dataset\\MGMT-\\00538\\T2w\\preprocessed.png: Missing modality\n"
     ]
    },
    {
     "name": "stderr",
     "output_type": "stream",
     "text": [
      "Extracting HOG for MGMT-:  67%|██████▋   | 186/278 [00:11<00:04, 21.73it/s]"
     ]
    },
    {
     "name": "stdout",
     "output_type": "stream",
     "text": [
      "Skipping ./output/filtered_dataset\\MGMT-\\00545\\FLAIR\\preprocessed.png: Missing modality\n",
      "Skipping ./output/filtered_dataset\\MGMT-\\00555\\FLAIR\\preprocessed.png: Missing modality\n"
     ]
    },
    {
     "name": "stderr",
     "output_type": "stream",
     "text": [
      "Extracting HOG for MGMT-:  75%|███████▍  | 208/278 [00:12<00:04, 17.05it/s]"
     ]
    },
    {
     "name": "stdout",
     "output_type": "stream",
     "text": [
      "Skipping ./output/filtered_dataset\\MGMT-\\00601\\FLAIR\\preprocessed.png: Missing modality\n",
      "Skipping ./output/filtered_dataset\\MGMT-\\00605\\T1wCE\\preprocessed.png: Missing modality\n",
      "Skipping ./output/filtered_dataset\\MGMT-\\00616\\FLAIR\\preprocessed.png: Missing modality\n",
      "Skipping ./output/filtered_dataset\\MGMT-\\00619\\T1wCE\\preprocessed.png: Missing modality\n",
      "Skipping ./output/filtered_dataset\\MGMT-\\00623\\FLAIR\\preprocessed.png: Missing modality\n"
     ]
    },
    {
     "name": "stderr",
     "output_type": "stream",
     "text": [
      "Extracting HOG for MGMT-:  80%|███████▉  | 222/278 [00:12<00:01, 34.63it/s]"
     ]
    },
    {
     "name": "stdout",
     "output_type": "stream",
     "text": [
      "Skipping ./output/filtered_dataset\\MGMT-\\00624\\T2w\\preprocessed.png: Missing modality\n",
      "Skipping ./output/filtered_dataset\\MGMT-\\00630\\T1w\\preprocessed.png: Missing modality\n",
      "Skipping ./output/filtered_dataset\\MGMT-\\00636\\T1w\\preprocessed.png: Missing modality\n",
      "Skipping ./output/filtered_dataset\\MGMT-\\00641\\FLAIR\\preprocessed.png: Missing modality\n",
      "Skipping ./output/filtered_dataset\\MGMT-\\00642\\FLAIR\\preprocessed.png: Missing modality\n",
      "Skipping ./output/filtered_dataset\\MGMT-\\00645\\FLAIR\\preprocessed.png: Missing modality\n",
      "Skipping ./output/filtered_dataset\\MGMT-\\00649\\FLAIR\\preprocessed.png: Missing modality\n",
      "Skipping ./output/filtered_dataset\\MGMT-\\00651\\T1w\\preprocessed.png: Missing modality\n",
      "Skipping ./output/filtered_dataset\\MGMT-\\00654\\FLAIR\\preprocessed.png: Missing modality\n",
      "Skipping ./output/filtered_dataset\\MGMT-\\00657\\FLAIR\\preprocessed.png: Missing modality\n",
      "Skipping ./output/filtered_dataset\\MGMT-\\00663\\FLAIR\\preprocessed.png: Missing modality\n",
      "Skipping ./output/filtered_dataset\\MGMT-\\00667\\T1w\\preprocessed.png: Missing modality\n"
     ]
    },
    {
     "name": "stderr",
     "output_type": "stream",
     "text": [
      "Extracting HOG for MGMT-:  81%|████████▏ | 226/278 [00:12<00:01, 34.92it/s]"
     ]
    },
    {
     "name": "stdout",
     "output_type": "stream",
     "text": [
      "Skipping ./output/filtered_dataset\\MGMT-\\00682\\FLAIR\\preprocessed.png: Missing modality\n",
      "Skipping ./output/filtered_dataset\\MGMT-\\00684\\T1w\\preprocessed.png: Missing modality\n",
      "Skipping ./output/filtered_dataset\\MGMT-\\00685\\FLAIR\\preprocessed.png: Missing modality\n",
      "Skipping ./output/filtered_dataset\\MGMT-\\00686\\FLAIR\\preprocessed.png: Missing modality\n",
      "Skipping ./output/filtered_dataset\\MGMT-\\00687\\T1w\\preprocessed.png: Missing modality\n",
      "Skipping ./output/filtered_dataset\\MGMT-\\00688\\FLAIR\\preprocessed.png: Missing modality\n",
      "Skipping ./output/filtered_dataset\\MGMT-\\00703\\FLAIR\\preprocessed.png: Missing modality\n",
      "Skipping ./output/filtered_dataset\\MGMT-\\00706\\T2w\\preprocessed.png: Missing modality\n",
      "Skipping ./output/filtered_dataset\\MGMT-\\00709\\FLAIR\\preprocessed.png: Missing modality\n"
     ]
    },
    {
     "name": "stderr",
     "output_type": "stream",
     "text": [
      "Extracting HOG for MGMT-:  84%|████████▍ | 233/278 [00:13<00:01, 36.60it/s]"
     ]
    },
    {
     "name": "stdout",
     "output_type": "stream",
     "text": [
      "Skipping ./output/filtered_dataset\\MGMT-\\00724\\FLAIR\\preprocessed.png: Missing modality\n",
      "Skipping ./output/filtered_dataset\\MGMT-\\00727\\T1wCE\\preprocessed.png: Missing modality\n"
     ]
    },
    {
     "name": "stderr",
     "output_type": "stream",
     "text": [
      "Extracting HOG for MGMT-:  88%|████████▊ | 245/278 [00:13<00:01, 29.79it/s]"
     ]
    },
    {
     "name": "stdout",
     "output_type": "stream",
     "text": [
      "Skipping ./output/filtered_dataset\\MGMT-\\00733\\FLAIR\\preprocessed.png: Missing modality\n",
      "Skipping ./output/filtered_dataset\\MGMT-\\00734\\T1w\\preprocessed.png: Missing modality\n",
      "Skipping ./output/filtered_dataset\\MGMT-\\00735\\FLAIR\\preprocessed.png: Missing modality\n",
      "Skipping ./output/filtered_dataset\\MGMT-\\00742\\T1w\\preprocessed.png: Missing modality\n",
      "Skipping ./output/filtered_dataset\\MGMT-\\00744\\T1w\\preprocessed.png: Missing modality\n",
      "Skipping ./output/filtered_dataset\\MGMT-\\00751\\T1w\\preprocessed.png: Missing modality\n"
     ]
    },
    {
     "name": "stderr",
     "output_type": "stream",
     "text": [
      "Extracting HOG for MGMT-:  91%|█████████ | 252/278 [00:13<00:00, 27.63it/s]"
     ]
    },
    {
     "name": "stdout",
     "output_type": "stream",
     "text": [
      "Skipping ./output/filtered_dataset\\MGMT-\\00756\\T2w\\preprocessed.png: Missing modality\n",
      "Skipping ./output/filtered_dataset\\MGMT-\\00759\\T1w\\preprocessed.png: Missing modality\n",
      "Skipping ./output/filtered_dataset\\MGMT-\\00764\\FLAIR\\preprocessed.png: Missing modality\n",
      "Skipping ./output/filtered_dataset\\MGMT-\\00774\\T1w\\preprocessed.png: Missing modality\n",
      "Skipping ./output/filtered_dataset\\MGMT-\\00778\\FLAIR\\preprocessed.png: Missing modality\n"
     ]
    },
    {
     "name": "stderr",
     "output_type": "stream",
     "text": [
      "Extracting HOG for MGMT-:  99%|█████████▊| 274/278 [00:15<00:00, 14.06it/s]"
     ]
    },
    {
     "name": "stdout",
     "output_type": "stream",
     "text": [
      "Skipping ./output/filtered_dataset\\MGMT-\\00834\\T1wCE\\preprocessed.png: Missing modality\n",
      "Skipping ./output/filtered_dataset\\MGMT-\\00837\\T1w\\preprocessed.png: Missing modality\n",
      "Skipping ./output/filtered_dataset\\MGMT-\\00839\\FLAIR\\preprocessed.png: Missing modality\n",
      "Skipping ./output/filtered_dataset\\MGMT-\\01004\\T1w\\preprocessed.png: Missing modality\n"
     ]
    },
    {
     "name": "stderr",
     "output_type": "stream",
     "text": [
      "Extracting HOG for MGMT-: 100%|██████████| 278/278 [00:15<00:00, 17.41it/s]\n",
      "Extracting HOG for MGMT+:   4%|▎         | 11/307 [00:00<00:21, 13.90it/s]"
     ]
    },
    {
     "name": "stdout",
     "output_type": "stream",
     "text": [
      "Skipping ./output/filtered_dataset\\MGMT+\\00020\\FLAIR\\preprocessed.png: Missing modality\n"
     ]
    },
    {
     "name": "stderr",
     "output_type": "stream",
     "text": [
      "Extracting HOG for MGMT+:   7%|▋         | 20/307 [00:01<00:20, 13.94it/s]"
     ]
    },
    {
     "name": "stdout",
     "output_type": "stream",
     "text": [
      "Skipping ./output/filtered_dataset\\MGMT+\\00048\\FLAIR\\preprocessed.png: Missing modality\n"
     ]
    },
    {
     "name": "stderr",
     "output_type": "stream",
     "text": [
      "Extracting HOG for MGMT+:   8%|▊         | 25/307 [00:01<00:19, 14.69it/s]"
     ]
    },
    {
     "name": "stdout",
     "output_type": "stream",
     "text": [
      "Skipping ./output/filtered_dataset\\MGMT+\\00060\\FLAIR\\preprocessed.png: Missing modality\n"
     ]
    },
    {
     "name": "stderr",
     "output_type": "stream",
     "text": [
      "Extracting HOG for MGMT+:  10%|▉         | 30/307 [00:02<00:18, 14.66it/s]"
     ]
    },
    {
     "name": "stdout",
     "output_type": "stream",
     "text": [
      "Skipping ./output/filtered_dataset\\MGMT+\\00070\\FLAIR\\preprocessed.png: Missing modality\n"
     ]
    },
    {
     "name": "stderr",
     "output_type": "stream",
     "text": [
      "Extracting HOG for MGMT+:  15%|█▌        | 47/307 [00:03<00:17, 14.55it/s]"
     ]
    },
    {
     "name": "stdout",
     "output_type": "stream",
     "text": [
      "Skipping ./output/filtered_dataset\\MGMT+\\00109\\FLAIR\\preprocessed.png: Missing modality\n",
      "Skipping ./output/filtered_dataset\\MGMT+\\00117\\T1w\\preprocessed.png: Missing modality\n"
     ]
    },
    {
     "name": "stderr",
     "output_type": "stream",
     "text": [
      "Extracting HOG for MGMT+:  17%|█▋        | 51/307 [00:03<00:17, 14.84it/s]"
     ]
    },
    {
     "name": "stdout",
     "output_type": "stream",
     "text": [
      "Skipping ./output/filtered_dataset\\MGMT+\\00138\\T1w\\preprocessed.png: Missing modality\n"
     ]
    },
    {
     "name": "stderr",
     "output_type": "stream",
     "text": [
      "Extracting HOG for MGMT+:  21%|██        | 64/307 [00:04<00:15, 15.21it/s]"
     ]
    },
    {
     "name": "stdout",
     "output_type": "stream",
     "text": [
      "Skipping ./output/filtered_dataset\\MGMT+\\00177\\T1w\\preprocessed.png: Missing modality\n",
      "Skipping ./output/filtered_dataset\\MGMT+\\00178\\T1w\\preprocessed.png: Missing modality\n"
     ]
    },
    {
     "name": "stderr",
     "output_type": "stream",
     "text": [
      "Extracting HOG for MGMT+:  23%|██▎       | 72/307 [00:05<00:12, 18.77it/s]"
     ]
    },
    {
     "name": "stdout",
     "output_type": "stream",
     "text": [
      "Skipping ./output/filtered_dataset\\MGMT+\\00196\\T1w\\preprocessed.png: Missing modality\n",
      "Skipping ./output/filtered_dataset\\MGMT+\\00197\\T1w\\preprocessed.png: Missing modality\n",
      "Skipping ./output/filtered_dataset\\MGMT+\\00199\\T1w\\preprocessed.png: Missing modality\n",
      "Skipping ./output/filtered_dataset\\MGMT+\\00203\\T1w\\preprocessed.png: Missing modality\n"
     ]
    },
    {
     "name": "stderr",
     "output_type": "stream",
     "text": [
      "Extracting HOG for MGMT+:  25%|██▍       | 76/307 [00:05<00:12, 18.04it/s]"
     ]
    },
    {
     "name": "stdout",
     "output_type": "stream",
     "text": [
      "Skipping ./output/filtered_dataset\\MGMT+\\00212\\T1w\\preprocessed.png: Missing modality\n",
      "Skipping ./output/filtered_dataset\\MGMT+\\00222\\T1w\\preprocessed.png: Missing modality\n",
      "Skipping ./output/filtered_dataset\\MGMT+\\00230\\T1w\\preprocessed.png: Missing modality\n",
      "Skipping ./output/filtered_dataset\\MGMT+\\00233\\T1w\\preprocessed.png: Missing modality\n"
     ]
    },
    {
     "name": "stderr",
     "output_type": "stream",
     "text": [
      "Extracting HOG for MGMT+:  27%|██▋       | 83/307 [00:05<00:10, 22.19it/s]"
     ]
    },
    {
     "name": "stdout",
     "output_type": "stream",
     "text": [
      "Skipping ./output/filtered_dataset\\MGMT+\\00235\\T1w\\preprocessed.png: Missing modality\n",
      "Skipping ./output/filtered_dataset\\MGMT+\\00240\\T1w\\preprocessed.png: Missing modality\n",
      "Skipping ./output/filtered_dataset\\MGMT+\\00245\\T1w\\preprocessed.png: Missing modality\n",
      "Skipping ./output/filtered_dataset\\MGMT+\\00250\\T1w\\preprocessed.png: Missing modality\n"
     ]
    },
    {
     "name": "stderr",
     "output_type": "stream",
     "text": [
      "Extracting HOG for MGMT+:  30%|██▉       | 91/307 [00:06<00:11, 18.57it/s]"
     ]
    },
    {
     "name": "stdout",
     "output_type": "stream",
     "text": [
      "Skipping ./output/filtered_dataset\\MGMT+\\00263\\T1w\\preprocessed.png: Missing modality\n",
      "Skipping ./output/filtered_dataset\\MGMT+\\00273\\T1w\\preprocessed.png: Missing modality\n"
     ]
    },
    {
     "name": "stderr",
     "output_type": "stream",
     "text": [
      "Extracting HOG for MGMT+:  32%|███▏      | 99/307 [00:06<00:12, 16.34it/s]"
     ]
    },
    {
     "name": "stdout",
     "output_type": "stream",
     "text": [
      "Skipping ./output/filtered_dataset\\MGMT+\\00293\\T1w\\preprocessed.png: Missing modality\n",
      "Skipping ./output/filtered_dataset\\MGMT+\\00296\\T1w\\preprocessed.png: Missing modality\n",
      "Skipping ./output/filtered_dataset\\MGMT+\\00299\\T1w\\preprocessed.png: Missing modality\n"
     ]
    },
    {
     "name": "stderr",
     "output_type": "stream",
     "text": [
      "Extracting HOG for MGMT+:  34%|███▍      | 105/307 [00:07<00:11, 17.54it/s]"
     ]
    },
    {
     "name": "stdout",
     "output_type": "stream",
     "text": [
      "Skipping ./output/filtered_dataset\\MGMT+\\00304\\T1w\\preprocessed.png: Missing modality\n",
      "Skipping ./output/filtered_dataset\\MGMT+\\00311\\T1w\\preprocessed.png: Missing modality\n"
     ]
    },
    {
     "name": "stderr",
     "output_type": "stream",
     "text": [
      "Extracting HOG for MGMT+:  35%|███▍      | 107/307 [00:07<00:11, 17.32it/s]"
     ]
    },
    {
     "name": "stdout",
     "output_type": "stream",
     "text": [
      "Skipping ./output/filtered_dataset\\MGMT+\\00313\\T1w\\preprocessed.png: Missing modality\n"
     ]
    },
    {
     "name": "stderr",
     "output_type": "stream",
     "text": [
      "Extracting HOG for MGMT+:  37%|███▋      | 114/307 [00:07<00:07, 25.63it/s]"
     ]
    },
    {
     "name": "stdout",
     "output_type": "stream",
     "text": [
      "Skipping ./output/filtered_dataset\\MGMT+\\00322\\T1w\\preprocessed.png: Missing modality\n",
      "Skipping ./output/filtered_dataset\\MGMT+\\00328\\T1w\\preprocessed.png: Missing modality\n",
      "Skipping ./output/filtered_dataset\\MGMT+\\00329\\T1w\\preprocessed.png: Missing modality\n",
      "Skipping ./output/filtered_dataset\\MGMT+\\00331\\T1w\\preprocessed.png: Missing modality\n",
      "Skipping ./output/filtered_dataset\\MGMT+\\00332\\T1w\\preprocessed.png: Missing modality\n",
      "Skipping ./output/filtered_dataset\\MGMT+\\00334\\T1w\\preprocessed.png: Missing modality\n"
     ]
    },
    {
     "name": "stderr",
     "output_type": "stream",
     "text": [
      "Extracting HOG for MGMT+:  39%|███▉      | 120/307 [00:07<00:10, 18.64it/s]"
     ]
    },
    {
     "name": "stdout",
     "output_type": "stream",
     "text": [
      "Skipping ./output/filtered_dataset\\MGMT+\\00352\\T1w\\preprocessed.png: Missing modality\n",
      "Skipping ./output/filtered_dataset\\MGMT+\\00359\\T1w\\preprocessed.png: Missing modality\n"
     ]
    },
    {
     "name": "stderr",
     "output_type": "stream",
     "text": [
      "Extracting HOG for MGMT+:  41%|████▏     | 127/307 [00:08<00:08, 21.26it/s]"
     ]
    },
    {
     "name": "stdout",
     "output_type": "stream",
     "text": [
      "Skipping ./output/filtered_dataset\\MGMT+\\00366\\T1wCE\\preprocessed.png: Missing modality\n",
      "Skipping ./output/filtered_dataset\\MGMT+\\00367\\T1w\\preprocessed.png: Missing modality\n",
      "Skipping ./output/filtered_dataset\\MGMT+\\00369\\T1wCE\\preprocessed.png: Missing modality\n",
      "Skipping ./output/filtered_dataset\\MGMT+\\00370\\T1w\\preprocessed.png: Missing modality\n",
      "Skipping ./output/filtered_dataset\\MGMT+\\00371\\T1w\\preprocessed.png: Missing modality\n",
      "Skipping ./output/filtered_dataset\\MGMT+\\00383\\T1wCE\\preprocessed.png: Missing modality\n"
     ]
    },
    {
     "name": "stderr",
     "output_type": "stream",
     "text": [
      "Extracting HOG for MGMT+:  43%|████▎     | 133/307 [00:08<00:08, 21.08it/s]"
     ]
    },
    {
     "name": "stdout",
     "output_type": "stream",
     "text": [
      "Skipping ./output/filtered_dataset\\MGMT+\\00400\\T1w\\preprocessed.png: Missing modality\n",
      "Skipping ./output/filtered_dataset\\MGMT+\\00403\\T1wCE\\preprocessed.png: Missing modality\n",
      "Skipping ./output/filtered_dataset\\MGMT+\\00406\\T1w\\preprocessed.png: Missing modality\n",
      "Skipping ./output/filtered_dataset\\MGMT+\\00408\\T1w\\preprocessed.png: Missing modality\n"
     ]
    },
    {
     "name": "stderr",
     "output_type": "stream",
     "text": [
      "Extracting HOG for MGMT+:  46%|████▋     | 142/307 [00:08<00:08, 19.09it/s]"
     ]
    },
    {
     "name": "stdout",
     "output_type": "stream",
     "text": [
      "Skipping ./output/filtered_dataset\\MGMT+\\00425\\T1w\\preprocessed.png: Missing modality\n",
      "Skipping ./output/filtered_dataset\\MGMT+\\00426\\T1w\\preprocessed.png: Missing modality\n",
      "Skipping ./output/filtered_dataset\\MGMT+\\00431\\T1w\\preprocessed.png: Missing modality\n"
     ]
    },
    {
     "name": "stderr",
     "output_type": "stream",
     "text": [
      "Extracting HOG for MGMT+:  47%|████▋     | 145/307 [00:09<00:09, 16.99it/s]"
     ]
    },
    {
     "name": "stdout",
     "output_type": "stream",
     "text": [
      "Skipping ./output/filtered_dataset\\MGMT+\\00440\\T1wCE\\preprocessed.png: Missing modality\n"
     ]
    },
    {
     "name": "stderr",
     "output_type": "stream",
     "text": [
      "Extracting HOG for MGMT+:  51%|█████▏    | 158/307 [00:09<00:06, 24.29it/s]"
     ]
    },
    {
     "name": "stdout",
     "output_type": "stream",
     "text": [
      "Skipping ./output/filtered_dataset\\MGMT+\\00468\\FLAIR\\preprocessed.png: Missing modality\n",
      "Skipping ./output/filtered_dataset\\MGMT+\\00472\\FLAIR\\preprocessed.png: Missing modality\n",
      "Skipping ./output/filtered_dataset\\MGMT+\\00479\\FLAIR\\preprocessed.png: Missing modality\n",
      "Skipping ./output/filtered_dataset\\MGMT+\\00480\\FLAIR\\preprocessed.png: Missing modality\n",
      "Skipping ./output/filtered_dataset\\MGMT+\\00483\\FLAIR\\preprocessed.png: Missing modality\n",
      "Skipping ./output/filtered_dataset\\MGMT+\\00485\\T1w\\preprocessed.png: Missing modality\n"
     ]
    },
    {
     "name": "stderr",
     "output_type": "stream",
     "text": [
      "Extracting HOG for MGMT+:  52%|█████▏    | 161/307 [00:09<00:05, 25.28it/s]"
     ]
    },
    {
     "name": "stdout",
     "output_type": "stream",
     "text": [
      "Skipping ./output/filtered_dataset\\MGMT+\\00488\\T1w\\preprocessed.png: Missing modality\n",
      "Skipping ./output/filtered_dataset\\MGMT+\\00493\\FLAIR\\preprocessed.png: Missing modality\n",
      "Skipping ./output/filtered_dataset\\MGMT+\\00499\\T1wCE\\preprocessed.png: Missing modality\n"
     ]
    },
    {
     "name": "stderr",
     "output_type": "stream",
     "text": [
      "Extracting HOG for MGMT+:  53%|█████▎    | 164/307 [00:10<00:06, 21.67it/s]"
     ]
    },
    {
     "name": "stdout",
     "output_type": "stream",
     "text": [
      "Skipping ./output/filtered_dataset\\MGMT+\\00500\\T2w\\preprocessed.png: Missing modality\n"
     ]
    },
    {
     "name": "stderr",
     "output_type": "stream",
     "text": [
      "Extracting HOG for MGMT+:  55%|█████▌    | 170/307 [00:10<00:07, 17.72it/s]"
     ]
    },
    {
     "name": "stdout",
     "output_type": "stream",
     "text": [
      "Skipping ./output/filtered_dataset\\MGMT+\\00505\\FLAIR\\preprocessed.png: Missing modality\n",
      "Skipping ./output/filtered_dataset\\MGMT+\\00513\\FLAIR\\preprocessed.png: Missing modality\n"
     ]
    },
    {
     "name": "stderr",
     "output_type": "stream",
     "text": [
      "Extracting HOG for MGMT+:  57%|█████▋    | 174/307 [00:10<00:06, 19.57it/s]"
     ]
    },
    {
     "name": "stdout",
     "output_type": "stream",
     "text": [
      "Skipping ./output/filtered_dataset\\MGMT+\\00517\\FLAIR\\preprocessed.png: Missing modality\n",
      "Skipping ./output/filtered_dataset\\MGMT+\\00523\\FLAIR\\preprocessed.png: Missing modality\n",
      "Skipping ./output/filtered_dataset\\MGMT+\\00524\\FLAIR\\preprocessed.png: Missing modality\n",
      "Skipping ./output/filtered_dataset\\MGMT+\\00526\\FLAIR\\preprocessed.png: Missing modality\n",
      "Skipping ./output/filtered_dataset\\MGMT+\\00528\\FLAIR\\preprocessed.png: Missing modality\n",
      "Skipping ./output/filtered_dataset\\MGMT+\\00529\\FLAIR\\preprocessed.png: Missing modality\n"
     ]
    },
    {
     "name": "stderr",
     "output_type": "stream",
     "text": [
      "Extracting HOG for MGMT+:  60%|█████▉    | 184/307 [00:10<00:05, 23.57it/s]"
     ]
    },
    {
     "name": "stdout",
     "output_type": "stream",
     "text": [
      "Skipping ./output/filtered_dataset\\MGMT+\\00537\\FLAIR\\preprocessed.png: Missing modality\n"
     ]
    },
    {
     "name": "stderr",
     "output_type": "stream",
     "text": [
      "Extracting HOG for MGMT+:  62%|██████▏   | 190/307 [00:11<00:06, 18.68it/s]"
     ]
    },
    {
     "name": "stdout",
     "output_type": "stream",
     "text": [
      "Skipping ./output/filtered_dataset\\MGMT+\\00550\\FLAIR\\preprocessed.png: Missing modality\n"
     ]
    },
    {
     "name": "stderr",
     "output_type": "stream",
     "text": [
      "Extracting HOG for MGMT+:  64%|██████▍   | 196/307 [00:11<00:05, 18.54it/s]"
     ]
    },
    {
     "name": "stdout",
     "output_type": "stream",
     "text": [
      "Skipping ./output/filtered_dataset\\MGMT+\\00556\\FLAIR\\preprocessed.png: Missing modality\n",
      "Skipping ./output/filtered_dataset\\MGMT+\\00558\\FLAIR\\preprocessed.png: Missing modality\n"
     ]
    },
    {
     "name": "stderr",
     "output_type": "stream",
     "text": [
      "Extracting HOG for MGMT+:  71%|███████   | 217/307 [00:13<00:06, 14.65it/s]"
     ]
    },
    {
     "name": "stdout",
     "output_type": "stream",
     "text": [
      "Skipping ./output/filtered_dataset\\MGMT+\\00606\\FLAIR\\preprocessed.png: Missing modality\n",
      "Skipping ./output/filtered_dataset\\MGMT+\\00607\\T1wCE\\preprocessed.png: Missing modality\n",
      "Skipping ./output/filtered_dataset\\MGMT+\\00610\\FLAIR\\preprocessed.png: Missing modality\n",
      "Skipping ./output/filtered_dataset\\MGMT+\\00611\\T1w\\preprocessed.png: Missing modality\n",
      "Skipping ./output/filtered_dataset\\MGMT+\\00612\\FLAIR\\preprocessed.png: Missing modality\n",
      "Skipping ./output/filtered_dataset\\MGMT+\\00613\\FLAIR\\preprocessed.png: Missing modality\n"
     ]
    },
    {
     "name": "stderr",
     "output_type": "stream",
     "text": [
      "Extracting HOG for MGMT+:  73%|███████▎  | 225/307 [00:13<00:03, 22.77it/s]"
     ]
    },
    {
     "name": "stdout",
     "output_type": "stream",
     "text": [
      "Skipping ./output/filtered_dataset\\MGMT+\\00618\\T1w\\preprocessed.png: Missing modality\n",
      "Skipping ./output/filtered_dataset\\MGMT+\\00621\\FLAIR\\preprocessed.png: Missing modality\n",
      "Skipping ./output/filtered_dataset\\MGMT+\\00625\\FLAIR\\preprocessed.png: Missing modality\n",
      "Skipping ./output/filtered_dataset\\MGMT+\\00626\\FLAIR\\preprocessed.png: Missing modality\n",
      "Skipping ./output/filtered_dataset\\MGMT+\\00628\\FLAIR\\preprocessed.png: Missing modality\n",
      "Skipping ./output/filtered_dataset\\MGMT+\\00631\\FLAIR\\preprocessed.png: Missing modality\n"
     ]
    },
    {
     "name": "stderr",
     "output_type": "stream",
     "text": [
      "Extracting HOG for MGMT+:  76%|███████▌  | 234/307 [00:14<00:03, 22.53it/s]"
     ]
    },
    {
     "name": "stdout",
     "output_type": "stream",
     "text": [
      "Skipping ./output/filtered_dataset\\MGMT+\\00646\\T1w\\preprocessed.png: Missing modality\n"
     ]
    },
    {
     "name": "stderr",
     "output_type": "stream",
     "text": [
      "Extracting HOG for MGMT+:  79%|███████▊  | 241/307 [00:14<00:02, 23.22it/s]"
     ]
    },
    {
     "name": "stdout",
     "output_type": "stream",
     "text": [
      "Skipping ./output/filtered_dataset\\MGMT+\\00655\\FLAIR\\preprocessed.png: Missing modality\n",
      "Skipping ./output/filtered_dataset\\MGMT+\\00658\\FLAIR\\preprocessed.png: Missing modality\n",
      "Skipping ./output/filtered_dataset\\MGMT+\\00661\\FLAIR\\preprocessed.png: Missing modality\n",
      "Skipping ./output/filtered_dataset\\MGMT+\\00674\\T1w\\preprocessed.png: Missing modality\n"
     ]
    },
    {
     "name": "stderr",
     "output_type": "stream",
     "text": [
      "Extracting HOG for MGMT+:  79%|███████▉  | 244/307 [00:14<00:02, 23.89it/s]"
     ]
    },
    {
     "name": "stdout",
     "output_type": "stream",
     "text": [
      "Skipping ./output/filtered_dataset\\MGMT+\\00675\\T1w\\preprocessed.png: Missing modality\n",
      "Skipping ./output/filtered_dataset\\MGMT+\\00677\\FLAIR\\preprocessed.png: Missing modality\n"
     ]
    },
    {
     "name": "stderr",
     "output_type": "stream",
     "text": [
      "Extracting HOG for MGMT+:  81%|████████▏ | 250/307 [00:14<00:02, 22.65it/s]"
     ]
    },
    {
     "name": "stdout",
     "output_type": "stream",
     "text": [
      "Skipping ./output/filtered_dataset\\MGMT+\\00690\\FLAIR\\preprocessed.png: Missing modality\n",
      "Skipping ./output/filtered_dataset\\MGMT+\\00692\\FLAIR\\preprocessed.png: Missing modality\n",
      "Skipping ./output/filtered_dataset\\MGMT+\\00693\\T1w\\preprocessed.png: Missing modality\n",
      "Skipping ./output/filtered_dataset\\MGMT+\\00694\\FLAIR\\preprocessed.png: Missing modality\n",
      "Skipping ./output/filtered_dataset\\MGMT+\\00698\\FLAIR\\preprocessed.png: Missing modality\n"
     ]
    },
    {
     "name": "stderr",
     "output_type": "stream",
     "text": [
      "Extracting HOG for MGMT+:  85%|████████▍ | 260/307 [00:15<00:01, 24.33it/s]"
     ]
    },
    {
     "name": "stdout",
     "output_type": "stream",
     "text": [
      "Skipping ./output/filtered_dataset\\MGMT+\\00707\\T1w\\preprocessed.png: Missing modality\n",
      "Skipping ./output/filtered_dataset\\MGMT+\\00708\\FLAIR\\preprocessed.png: Missing modality\n",
      "Skipping ./output/filtered_dataset\\MGMT+\\00714\\FLAIR\\preprocessed.png: Missing modality\n",
      "Skipping ./output/filtered_dataset\\MGMT+\\00716\\T1w\\preprocessed.png: Missing modality\n",
      "Skipping ./output/filtered_dataset\\MGMT+\\00718\\FLAIR\\preprocessed.png: Missing modality\n",
      "Skipping ./output/filtered_dataset\\MGMT+\\00731\\FLAIR\\preprocessed.png: Missing modality\n"
     ]
    },
    {
     "name": "stderr",
     "output_type": "stream",
     "text": [
      "Extracting HOG for MGMT+:  88%|████████▊ | 269/307 [00:15<00:01, 27.24it/s]"
     ]
    },
    {
     "name": "stdout",
     "output_type": "stream",
     "text": [
      "Skipping ./output/filtered_dataset\\MGMT+\\00732\\T1wCE\\preprocessed.png: Missing modality\n",
      "Skipping ./output/filtered_dataset\\MGMT+\\00736\\FLAIR\\preprocessed.png: Missing modality\n",
      "Skipping ./output/filtered_dataset\\MGMT+\\00739\\FLAIR\\preprocessed.png: Missing modality\n",
      "Skipping ./output/filtered_dataset\\MGMT+\\00740\\FLAIR\\preprocessed.png: Missing modality\n"
     ]
    },
    {
     "name": "stderr",
     "output_type": "stream",
     "text": [
      "Extracting HOG for MGMT+:  91%|█████████ | 278/307 [00:15<00:00, 31.59it/s]"
     ]
    },
    {
     "name": "stdout",
     "output_type": "stream",
     "text": [
      "Skipping ./output/filtered_dataset\\MGMT+\\00758\\FLAIR\\preprocessed.png: Missing modality\n",
      "Skipping ./output/filtered_dataset\\MGMT+\\00760\\FLAIR\\preprocessed.png: Missing modality\n",
      "Skipping ./output/filtered_dataset\\MGMT+\\00765\\FLAIR\\preprocessed.png: Missing modality\n",
      "Skipping ./output/filtered_dataset\\MGMT+\\00768\\FLAIR\\preprocessed.png: Missing modality\n",
      "Skipping ./output/filtered_dataset\\MGMT+\\00772\\FLAIR\\preprocessed.png: Missing modality\n",
      "Skipping ./output/filtered_dataset\\MGMT+\\00775\\T1w\\preprocessed.png: Missing modality\n"
     ]
    },
    {
     "name": "stderr",
     "output_type": "stream",
     "text": [
      "Extracting HOG for MGMT+:  97%|█████████▋| 299/307 [00:17<00:00, 15.86it/s]"
     ]
    },
    {
     "name": "stdout",
     "output_type": "stream",
     "text": [
      "Skipping ./output/filtered_dataset\\MGMT+\\00838\\T1w\\preprocessed.png: Missing modality\n",
      "Skipping ./output/filtered_dataset\\MGMT+\\00840\\T1w\\preprocessed.png: Missing modality\n"
     ]
    },
    {
     "name": "stderr",
     "output_type": "stream",
     "text": [
      "Extracting HOG for MGMT+:  99%|█████████▊| 303/307 [00:17<00:00, 15.22it/s]"
     ]
    },
    {
     "name": "stdout",
     "output_type": "stream",
     "text": [
      "Skipping ./output/filtered_dataset\\MGMT+\\01001\\T1wCE\\preprocessed.png: Missing modality\n"
     ]
    },
    {
     "name": "stderr",
     "output_type": "stream",
     "text": [
      "Extracting HOG for MGMT+: 100%|██████████| 307/307 [00:17<00:00, 17.15it/s]\n"
     ]
    },
    {
     "name": "stdout",
     "output_type": "stream",
     "text": [
      "Skipping ./output/filtered_dataset\\MGMT+\\01008\\T1wCE\\preprocessed.png: Missing modality\n",
      "HOG feature extraction completed! Saved to ./output/features/hog_features.npz\n"
     ]
    }
   ],
   "source": [
    "import os\n",
    "import cv2\n",
    "import numpy as np\n",
    "from tqdm import tqdm\n",
    "\n",
    "class HOGExtractor:\n",
    "    def __init__(self, preprocessed_path, output_file_path, image_size=(128, 128), \n",
    "                 cell_size=(8, 8), block_size=(2, 2), bins=9, epsilon=1e-8):\n",
    "        self.preprocessed_path = preprocessed_path\n",
    "        self.output_file_path = output_file_path\n",
    "        self.image_size = image_size\n",
    "        self.mri_types = [\"FLAIR\", \"T1w\", \"T1wCE\", \"T2w\"]\n",
    "        self.cell_size = cell_size\n",
    "        self.block_size = block_size\n",
    "        self.bins = bins\n",
    "        self.epsilon = epsilon\n",
    "\n",
    "    def compute_gradients(self, image):\n",
    "        image = cv2.GaussianBlur(image, (3, 3), 0)\n",
    "        image = image.astype(np.float32)  # Keep original range [0, 255]\n",
    "        \n",
    "        Ex = cv2.Sobel(image, cv2.CV_64F, 1, 0, ksize=3)\n",
    "        Ey = cv2.Sobel(image, cv2.CV_64F, 0, 1, ksize=3)\n",
    "        \n",
    "        magnitude = np.sqrt(Ex ** 2 + Ey ** 2)\n",
    "        angle = np.arctan2(Ey, Ex) * (180 / np.pi)\n",
    "        angle[angle < 0] += 180\n",
    "        \n",
    "        max_mag = np.max(magnitude)\n",
    "        # print(f\"Gradient Magnitude - Min: {magnitude.min()}, Max: {max_mag}, Mean: {magnitude.mean()}\")  # Debug\n",
    "        if max_mag > 0:\n",
    "            magnitude /= max_mag\n",
    "        else:\n",
    "            print(\"Warning: No gradients detected (max magnitude = 0)\")\n",
    "        \n",
    "        return magnitude, angle\n",
    "\n",
    "    def compute_histograms(self, magnitude, angle):\n",
    "        h, w = magnitude.shape\n",
    "        cell_h, cell_w = self.cell_size\n",
    "        cells_x, cells_y = w // cell_w, h // cell_h\n",
    "        histograms = np.zeros((cells_y, cells_x, self.bins))\n",
    "\n",
    "        bin_size = 180 / self.bins\n",
    "        for i in range(cells_y):\n",
    "            for j in range(cells_x):\n",
    "                cell_mag = magnitude[i * cell_h:(i + 1) * cell_h, j * cell_w:(j + 1) * cell_w]\n",
    "                cell_ang = angle[i * cell_h:(i + 1) * cell_h, j * cell_w:(j + 1) * cell_w]\n",
    "                hist, _ = np.histogram(cell_ang, bins=self.bins, range=(0, 180), weights=cell_mag)\n",
    "                histograms[i, j] = hist\n",
    "        \n",
    "        # print(f\"Histograms - Min: {histograms.min()}, Max: {histograms.max()}, Mean: {histograms.mean()}\")  # Debug\n",
    "        return histograms\n",
    "\n",
    "    def normalize_blocks(self, histograms):\n",
    "        cells_y, cells_x, bins = histograms.shape\n",
    "        block_h, block_w = self.block_size\n",
    "        normalized_hog = []\n",
    "\n",
    "        for i in range(cells_y - block_h + 1):\n",
    "            for j in range(cells_x - block_w + 1):\n",
    "                block = histograms[i:i + block_h, j:j + block_w].flatten()\n",
    "                norm_factor = np.sum(block) + self.epsilon\n",
    "                normalized_block = np.sqrt(block / norm_factor)\n",
    "                normalized_hog.extend(normalized_block)\n",
    "\n",
    "        hog_descriptor = np.array(normalized_hog)\n",
    "        # print(f\"HOG Descriptor - Min: {hog_descriptor.min()}, Max: {hog_descriptor.max()}, Mean: {hog_descriptor.mean()}\")  # Debug\n",
    "        return hog_descriptor\n",
    "\n",
    "    def extract_features(self, image):\n",
    "        magnitude, angle = self.compute_gradients(image)\n",
    "        histograms = self.compute_histograms(magnitude, angle)\n",
    "        hog_descriptor = self.normalize_blocks(histograms)\n",
    "        if np.all(hog_descriptor == 0):\n",
    "            print(\"Warning: HOG features are all zeros\")\n",
    "        return hog_descriptor\n",
    "\n",
    "    def load_and_process_image(self, patient_path, mri_type):\n",
    "        img_path = os.path.join(patient_path, mri_type, \"preprocessed.png\")\n",
    "        if os.path.exists(img_path):\n",
    "            img = cv2.imread(img_path, cv2.IMREAD_GRAYSCALE)\n",
    "            if img.shape != self.image_size:\n",
    "                img = cv2.resize(img, self.image_size)\n",
    "            if img.max() == 0:\n",
    "                print(f\"Skipping {img_path}: Image is all zeros\")\n",
    "                return None\n",
    "            # print(f\"Loaded {img_path} - Min: {img.min()}, Max: {img.max()}, Mean: {img.mean()}\")  # Debug\n",
    "            return img\n",
    "        else:\n",
    "            print(f\"Skipping {img_path}: Missing modality\")\n",
    "            return None\n",
    "\n",
    "    def process_patient(self, patient_path, label):\n",
    "        try:\n",
    "            patient_features = []\n",
    "            for mri_type in self.mri_types:\n",
    "                img = self.load_and_process_image(patient_path, mri_type)\n",
    "                if img is None:\n",
    "                    return None\n",
    "                hog_feats = self.extract_features(img)\n",
    "                patient_features.append(hog_feats)\n",
    "            \n",
    "            combined_features = np.concatenate(patient_features)\n",
    "            patient_id = os.path.basename(patient_path)\n",
    "            return {'patient_id': patient_id, 'features': combined_features, 'label': label}\n",
    "        except Exception as e:\n",
    "            print(f\"Error processing {patient_path}: {e}\")\n",
    "            return None\n",
    "\n",
    "    def run_extraction(self):\n",
    "        all_data = []\n",
    "        for mgmt_status in [\"MGMT-\", \"MGMT+\"]:\n",
    "            mgmt_path = os.path.join(self.preprocessed_path, mgmt_status)\n",
    "            label = 0 if mgmt_status == \"MGMT-\" else 1\n",
    "\n",
    "            if not os.path.exists(mgmt_path):\n",
    "                print(f\"Skipping {mgmt_status}: directory not found.\")\n",
    "                continue\n",
    "\n",
    "            patient_folders = sorted(os.listdir(mgmt_path))\n",
    "            for patient in tqdm(patient_folders, desc=f\"Extracting HOG for {mgmt_status}\"):\n",
    "                patient_path = os.path.join(mgmt_path, patient)\n",
    "                patient_data = self.process_patient(patient_path, label)\n",
    "                if patient_data is not None:\n",
    "                    all_data.append(patient_data)\n",
    "\n",
    "        patient_ids = np.array([data['patient_id'] for data in all_data])\n",
    "        features = np.array([data['features'] for data in all_data])\n",
    "        labels = np.array([data['label'] for data in all_data])\n",
    "        np.savez(self.output_file_path, patient_ids=patient_ids, features=features, labels=labels)\n",
    "        print(f\"HOG feature extraction completed! Saved to {self.output_file_path}\")\n",
    "\n",
    "\n",
    "extractor = HOGExtractor(FILTERED_OUTPUT, OUTPUT_FILE_PATH_HOG)\n",
    "extractor.run_extraction()"
   ]
  },
  {
   "cell_type": "code",
   "execution_count": 9,
   "metadata": {},
   "outputs": [
    {
     "name": "stdout",
     "output_type": "stream",
     "text": [
      "Patient: 00184\n",
      "HOG Features Shape: (32400,)\n",
      "HOG Features (first 10): [0. 0. 0. 0. 0. 0. 0. 0. 0. 0.]\n",
      "Label: 0\n",
      "Features for 00184 (first 20): [0. 0. 0. 0. 0. 0. 0. 0. 0. 0. 0. 0. 0. 0. 0. 0. 0. 0. 0. 0.]\n",
      "Features for 00184 (100-120): [0. 0. 0. 0. 0. 0. 0. 0. 0. 0. 0. 0. 0. 0. 0. 0. 0. 0. 0. 0.]\n",
      "Non-zero count: 9974\n",
      "Min: 0.0 Max: 0.9999999985294261 Mean: 0.05050869573233945\n"
     ]
    }
   ],
   "source": [
    "def check_hog_features(npz_file_path, patient_id):\n",
    "    data = np.load(npz_file_path)\n",
    "    patient_ids = data['patient_ids']\n",
    "    features = data['features']\n",
    "    labels = data['labels']\n",
    "    \n",
    "    try:\n",
    "        idx = np.where(patient_ids == patient_id)[0][0]\n",
    "        np.set_printoptions(precision=6, suppress=True)\n",
    "        print(f\"Patient: {patient_id}\")\n",
    "        print(f\"HOG Features Shape: {features[idx].shape}\")\n",
    "        print(f\"HOG Features (first 10): {features[idx][:10]}\")\n",
    "        print(f\"Label: {labels[idx]}\")\n",
    "        print(\"Features for 00184 (first 20):\", features[idx][:20])\n",
    "        print(\"Features for 00184 (100-120):\", features[idx][100:120])\n",
    "        print(\"Non-zero count:\", np.sum(features[idx] != 0))\n",
    "        print(\"Min:\", features[idx].min(), \"Max:\", features[idx].max(), \"Mean:\", features[idx].mean())\n",
    "    except IndexError:\n",
    "        print(f\"Patient {patient_id} not found.\")\n",
    "\n",
    "PATIENT_ID = \"00184\" \n",
    "check_hog_features(OUTPUT_FILE_PATH_HOG, PATIENT_ID)"
   ]
  },
  {
   "cell_type": "markdown",
   "metadata": {},
   "source": [
    "**LBP Features**"
   ]
  },
  {
   "cell_type": "code",
   "execution_count": 10,
   "metadata": {},
   "outputs": [
    {
     "name": "stderr",
     "output_type": "stream",
     "text": [
      "Extracting LBP for MGMT-:   0%|          | 0/278 [00:00<?, ?it/s]"
     ]
    },
    {
     "name": "stderr",
     "output_type": "stream",
     "text": [
      "Extracting LBP for MGMT-: 100%|██████████| 278/278 [00:02<00:00, 95.95it/s] \n",
      "Extracting LBP for MGMT+: 100%|██████████| 307/307 [00:03<00:00, 97.91it/s] "
     ]
    },
    {
     "name": "stdout",
     "output_type": "stream",
     "text": [
      "LBP feature extraction completed! Saved to ./output/features/lbp_features.npz 🚀\n"
     ]
    },
    {
     "name": "stderr",
     "output_type": "stream",
     "text": [
      "\n"
     ]
    }
   ],
   "source": [
    "class LBPExtractor:\n",
    "    def __init__(self, preprocessed_path, output_file_path, image_size=(128, 128), \n",
    "                 radius=1, n_points=8):\n",
    "        \"\"\"\n",
    "        Initializes the LBP extractor with:\n",
    "        - preprocessed_path: Path to MRI images\n",
    "        - output_file_path: Single .npz file for output\n",
    "        - image_size: Input image size (default: 128x128)\n",
    "        - radius: Radius of the circular LBP (default: 1)\n",
    "        - n_points: Number of neighboring points (default: 8)\n",
    "        \"\"\"\n",
    "        self.preprocessed_path = preprocessed_path\n",
    "        self.output_file_path = output_file_path\n",
    "        self.image_size = image_size\n",
    "        self.mri_types = [\"FLAIR\", \"T1w\", \"T1wCE\", \"T2w\"]\n",
    "        self.radius = radius\n",
    "        self.n_points = n_points\n",
    "        self.n_bins = n_points + 2  # Uniform LBP bins: n_points + 2 (uniform + non-uniform)\n",
    "\n",
    "    def compute_lbp_features(self, image):\n",
    "        \"\"\"Computes LBP features (histogram) for a single image.\"\"\"\n",
    "        # Convert to uint8 [0, 255]\n",
    "        gray_img = img_as_ubyte(image)\n",
    "        # Compute LBP\n",
    "        lbp = local_binary_pattern(gray_img, P=self.n_points, R=self.radius, method='uniform')\n",
    "        # Compute histogram\n",
    "        hist, _ = np.histogram(lbp.ravel(), bins=self.n_bins, range=(0, self.n_bins), density=True)\n",
    "        return hist  # Shape: (10,) with P=8, R=1\n",
    "\n",
    "    def load_and_process_image(self, patient_path, mri_type):\n",
    "        \"\"\"Loads and processes a single MRI image.\"\"\"\n",
    "        img_path = os.path.join(patient_path, mri_type, \"preprocessed.png\")\n",
    "        if os.path.exists(img_path):\n",
    "            img = cv2.imread(img_path, cv2.IMREAD_GRAYSCALE)\n",
    "            if img.shape != self.image_size:\n",
    "                img = cv2.resize(img, self.image_size)\n",
    "            if img.max() == 0:\n",
    "                print(f\"Skipping {img_path}: Image is all zeros\")\n",
    "                return None\n",
    "            return img.astype(np.float32) / 255.0  # Normalize to [0, 1]\n",
    "        else:\n",
    "            # print(f\"Skipping {img_path}: Missing modality\")\n",
    "            return None\n",
    "\n",
    "    def process_patient(self, patient_path, label):\n",
    "        \"\"\"Processes a single patient and returns LBP features.\"\"\"\n",
    "        try:\n",
    "            patient_features = []\n",
    "            for mri_type in self.mri_types:\n",
    "                img = self.load_and_process_image(patient_path, mri_type)\n",
    "                if img is None:\n",
    "                    return None  # Skip if any modality is missing or invalid\n",
    "                lbp_feats = self.compute_lbp_features(img)\n",
    "                patient_features.append(lbp_feats)\n",
    "            \n",
    "            # Stack features: 4 modalities * n_bins features\n",
    "            combined_features = np.concatenate(patient_features)  # Shape: (40,) with P=8\n",
    "            patient_id = os.path.basename(patient_path)\n",
    "            return {'patient_id': patient_id, 'features': combined_features, 'label': label}\n",
    "        except Exception as e:\n",
    "            print(f\"Error processing {patient_path}: {e}\")\n",
    "            return None\n",
    "\n",
    "    def run_extraction(self):\n",
    "        \"\"\"Runs LBP feature extraction and saves to a single .npz file.\"\"\"\n",
    "        all_data = []\n",
    "        for mgmt_status in [\"MGMT-\", \"MGMT+\"]:\n",
    "            mgmt_path = os.path.join(self.preprocessed_path, mgmt_status)\n",
    "            label = 0 if mgmt_status == \"MGMT-\" else 1\n",
    "\n",
    "            if not os.path.exists(mgmt_path):\n",
    "                print(f\"Skipping {mgmt_status}: directory not found.\")\n",
    "                continue\n",
    "\n",
    "            patient_folders = sorted(os.listdir(mgmt_path))\n",
    "            for patient in tqdm(patient_folders, desc=f\"Extracting LBP for {mgmt_status}\"):\n",
    "                patient_path = os.path.join(mgmt_path, patient)\n",
    "                patient_data = self.process_patient(patient_path, label)\n",
    "                if patient_data is not None:\n",
    "                    all_data.append(patient_data)\n",
    "\n",
    "        patient_ids = np.array([data['patient_id'] for data in all_data])\n",
    "        features = np.array([data['features'] for data in all_data])  # Shape: (n_patients, 40)\n",
    "        labels = np.array([data['label'] for data in all_data])\n",
    "        np.savez(self.output_file_path, patient_ids=patient_ids, features=features, labels=labels)\n",
    "        print(f\"LBP feature extraction completed! Saved to {self.output_file_path} 🚀\")\n",
    "\n",
    "\n",
    "extractor = LBPExtractor(FILTERED_OUTPUT, OUTPUT_FILE_PATH_LBP, radius=1, n_points=8)\n",
    "extractor.run_extraction()"
   ]
  },
  {
   "cell_type": "code",
   "execution_count": 11,
   "metadata": {},
   "outputs": [
    {
     "name": "stdout",
     "output_type": "stream",
     "text": [
      "Patient: 00000\n",
      "LBP Features Shape: (40,)\n",
      "LBP Features (first 10): [0.010132 0.012024 0.008545 0.01947  0.024231 0.016052 0.011353 0.009827\n",
      " 0.871399 0.016968]\n",
      "Non-zero count: 40 out of 40\n",
      "Label: 1\n"
     ]
    }
   ],
   "source": [
    "\n",
    "def check_lbp_features(npz_file_path, patient_id):\n",
    "    data = np.load(npz_file_path)\n",
    "    patient_ids = data['patient_ids']\n",
    "    features = data['features']\n",
    "    labels = data['labels']\n",
    "    \n",
    "    try:\n",
    "        idx = np.where(patient_ids == patient_id)[0][0]\n",
    "        print(f\"Patient: {patient_id}\")\n",
    "        print(f\"LBP Features Shape: {features[idx].shape}\")\n",
    "        print(f\"LBP Features (first 10): {features[idx][:10]}\")\n",
    "        print(f\"Non-zero count: {np.sum(features[idx] != 0)} out of {features[idx].size}\")\n",
    "        print(f\"Label: {labels[idx]}\")\n",
    "    except IndexError:\n",
    "        print(f\"Patient {patient_id} not found.\")\n",
    "\n",
    "PATIENT_ID = \"00000\" \n",
    "check_lbp_features(OUTPUT_FILE_PATH_LBP, PATIENT_ID)"
   ]
  },
  {
   "cell_type": "markdown",
   "metadata": {},
   "source": [
    "**DLRFE**"
   ]
  },
  {
   "cell_type": "code",
   "execution_count": 12,
   "metadata": {},
   "outputs": [],
   "source": [
    "class MRIDataset(Dataset):\n",
    "    def __init__(self, preprocessed_path, patient_ids, labels, image_size=(128, 128)):\n",
    "        self.preprocessed_path = preprocessed_path\n",
    "        self.patient_ids = patient_ids\n",
    "        self.labels = labels\n",
    "        self.image_size = image_size\n",
    "        self.mri_types = [\"FLAIR\", \"T1w\", \"T1wCE\", \"T2w\"]\n",
    "\n",
    "    def __len__(self):\n",
    "        return len(self.patient_ids)\n",
    "\n",
    "    def __getitem__(self, idx):\n",
    "        patient_id = self.patient_ids[idx]\n",
    "        label = self.labels[idx]\n",
    "        patient_path = os.path.join(self.preprocessed_path, \"MGMT-\" if label == 0 else \"MGMT+\", patient_id)\n",
    "        \n",
    "        # Load and stack 4 modalities\n",
    "        channels = []\n",
    "        for mri_type in self.mri_types:\n",
    "            img_path = os.path.join(patient_path, mri_type, \"preprocessed.png\")\n",
    "            if os.path.exists(img_path):\n",
    "                img = cv2.imread(img_path, cv2.IMREAD_GRAYSCALE)\n",
    "                if img.shape != self.image_size:\n",
    "                    img = cv2.resize(img, self.image_size)\n",
    "                img = img.astype(np.float32) / 255.0\n",
    "            else:\n",
    "                img = np.zeros(self.image_size, dtype=np.float32)\n",
    "            channels.append(img)\n",
    "        \n",
    "        image = np.stack(channels, axis=0)\n",
    "        return torch.tensor(image), torch.tensor(label, dtype=torch.float32)\n"
   ]
  },
  {
   "cell_type": "code",
   "execution_count": 13,
   "metadata": {},
   "outputs": [],
   "source": [
    "class DLRFEModel(nn.Module):\n",
    "    def __init__(self, input_shape=(4, 128, 128)):\n",
    "        super(DLRFEModel, self).__init__()\n",
    "        # Block 1\n",
    "        self.conv1 = nn.Conv2d(4, 32, kernel_size=3, padding=1)\n",
    "        self.pool1 = nn.MaxPool2d(2)  # 128x128 -> 64x64\n",
    "        # Block 2\n",
    "        self.conv2 = nn.Conv2d(32, 64, kernel_size=3, padding=1)\n",
    "        self.pool2 = nn.MaxPool2d(2)  # 64x64 -> 32x32\n",
    "        self.bn2 = nn.BatchNorm2d(64)\n",
    "        # Block 3\n",
    "        self.conv3 = nn.Conv2d(64, 128, kernel_size=3, padding=1)\n",
    "        self.pool3 = nn.MaxPool2d(2)  # 32x32 -> 16x16\n",
    "        self.dropout = nn.Dropout(0.5)\n",
    "        # Latent Features\n",
    "        self.flatten = nn.Flatten()\n",
    "        self.fc1 = nn.Linear(128 * 16 * 16, 256)  # Latent layer\n",
    "        # Classification Head\n",
    "        self.fc2 = nn.Linear(256, 1)  # Output for binary classification\n",
    "\n",
    "    def forward(self, x, extract_features=False):\n",
    "        x = torch.relu(self.conv1(x))\n",
    "        # print(f\"After Conv1: Min {x.min().item()}, Max {x.max().item()}\")  # debug\n",
    "        x = self.pool1(x)\n",
    "        x = torch.relu(self.conv2(x))\n",
    "        x = self.pool2(x)\n",
    "        x = self.bn2(x)\n",
    "        x = torch.relu(self.conv3(x))\n",
    "        x = self.pool3(x)\n",
    "        x = self.dropout(x)\n",
    "        x = self.flatten(x)\n",
    "        latent = self.fc1(x)  # Latent features (256,)\n",
    "        if extract_features:\n",
    "            # print(f\"Latent Min: {latent.min().item()}, Max: {latent.max().item()}\")\n",
    "            return latent\n",
    "        output = torch.sigmoid(self.fc2(latent))  # Classification output\n",
    "        return output"
   ]
  },
  {
   "cell_type": "code",
   "execution_count": 14,
   "metadata": {},
   "outputs": [],
   "source": [
    "def train_dlrfe(model, dataset, epochs=10, batch_size=4, lr=0.001, device='cuda' if torch.cuda.is_available() else 'cpu'):\n",
    "    model = model.to(device)\n",
    "    criterion = nn.BCELoss()\n",
    "    optimizer = optim.Adam(model.parameters(), lr=lr)\n",
    "    dataloader = DataLoader(dataset, batch_size=batch_size, shuffle=True)\n",
    "\n",
    "    for epoch in range(epochs):\n",
    "        model.train()\n",
    "        running_loss = 0.0\n",
    "        for _, (images, labels) in enumerate(tqdm(dataloader, desc=f\"Epoch {epoch+1}/{epochs}\")):\n",
    "            images, labels = images.to(device), labels.to(device).float().view(-1, 1)\n",
    "            \n",
    "            optimizer.zero_grad()\n",
    "            outputs = model(images)\n",
    "            loss = criterion(outputs, labels)\n",
    "            loss.backward()\n",
    "            optimizer.step()\n",
    "            running_loss += loss.item()\n",
    "        \n",
    "        print(f\"Epoch {epoch+1}, Loss: {running_loss / len(dataloader):.4f}\")\n",
    "\n",
    "    return model"
   ]
  },
  {
   "cell_type": "code",
   "execution_count": 15,
   "metadata": {},
   "outputs": [],
   "source": [
    "def extract_trained_features(model, dataset, device='cuda' if torch.cuda.is_available() else 'cpu'):\n",
    "    model = model.to(device)\n",
    "    model.eval()\n",
    "    features = []\n",
    "    labels = []\n",
    "    patient_ids = []\n",
    "\n",
    "    dataloader = DataLoader(dataset, batch_size=1, shuffle=False)\n",
    "    with torch.no_grad():\n",
    "        for idx, (images, lbl) in enumerate(tqdm(dataloader, desc=\"Extracting Features\")):\n",
    "            images = images.to(device)\n",
    "            feat = model(images, extract_features=True).cpu().numpy().flatten()\n",
    "            features.append(feat)\n",
    "            labels.append(lbl.numpy().item())\n",
    "            patient_ids.append(dataset.patient_ids[idx])\n",
    "\n",
    "    features = np.array(features)\n",
    "    labels = np.array(labels)\n",
    "    patient_ids = np.array(patient_ids)\n",
    "    np.savez(\"./output/features/trained_dlrfe_features.npz\", patient_ids=patient_ids, features=features, labels=labels)\n",
    "    print(f\"Trained DLRFE features saved to ./output/features/trained_dlrfe_features.npz\")\n",
    "    print(f\"Features Shape: {features.shape}\")\n",
    "    print(f\"Sample Features (patient {patient_ids[0]}): {features[0][:5]}\")\n",
    "    return features, labels, patient_ids\n"
   ]
  },
  {
   "cell_type": "code",
   "execution_count": 16,
   "metadata": {},
   "outputs": [
    {
     "name": "stderr",
     "output_type": "stream",
     "text": [
      "Epoch 1/15: 100%|██████████| 147/147 [00:21<00:00,  6.93it/s]\n"
     ]
    },
    {
     "name": "stdout",
     "output_type": "stream",
     "text": [
      "Epoch 1, Loss: 0.9787\n"
     ]
    },
    {
     "name": "stderr",
     "output_type": "stream",
     "text": [
      "Epoch 2/15: 100%|██████████| 147/147 [00:20<00:00,  7.03it/s]\n"
     ]
    },
    {
     "name": "stdout",
     "output_type": "stream",
     "text": [
      "Epoch 2, Loss: 0.6745\n"
     ]
    },
    {
     "name": "stderr",
     "output_type": "stream",
     "text": [
      "Epoch 3/15: 100%|██████████| 147/147 [00:21<00:00,  6.92it/s]\n"
     ]
    },
    {
     "name": "stdout",
     "output_type": "stream",
     "text": [
      "Epoch 3, Loss: 0.6857\n"
     ]
    },
    {
     "name": "stderr",
     "output_type": "stream",
     "text": [
      "Epoch 4/15: 100%|██████████| 147/147 [00:21<00:00,  6.94it/s]\n"
     ]
    },
    {
     "name": "stdout",
     "output_type": "stream",
     "text": [
      "Epoch 4, Loss: 0.5637\n"
     ]
    },
    {
     "name": "stderr",
     "output_type": "stream",
     "text": [
      "Epoch 5/15: 100%|██████████| 147/147 [00:20<00:00,  7.02it/s]\n"
     ]
    },
    {
     "name": "stdout",
     "output_type": "stream",
     "text": [
      "Epoch 5, Loss: 0.4749\n"
     ]
    },
    {
     "name": "stderr",
     "output_type": "stream",
     "text": [
      "Epoch 6/15: 100%|██████████| 147/147 [00:20<00:00,  7.02it/s]\n"
     ]
    },
    {
     "name": "stdout",
     "output_type": "stream",
     "text": [
      "Epoch 6, Loss: 0.4445\n"
     ]
    },
    {
     "name": "stderr",
     "output_type": "stream",
     "text": [
      "Epoch 7/15: 100%|██████████| 147/147 [00:21<00:00,  6.76it/s]\n"
     ]
    },
    {
     "name": "stdout",
     "output_type": "stream",
     "text": [
      "Epoch 7, Loss: 0.4621\n"
     ]
    },
    {
     "name": "stderr",
     "output_type": "stream",
     "text": [
      "Epoch 8/15: 100%|██████████| 147/147 [00:22<00:00,  6.61it/s]\n"
     ]
    },
    {
     "name": "stdout",
     "output_type": "stream",
     "text": [
      "Epoch 8, Loss: 0.3324\n"
     ]
    },
    {
     "name": "stderr",
     "output_type": "stream",
     "text": [
      "Epoch 9/15: 100%|██████████| 147/147 [00:22<00:00,  6.48it/s]\n"
     ]
    },
    {
     "name": "stdout",
     "output_type": "stream",
     "text": [
      "Epoch 9, Loss: 0.2807\n"
     ]
    },
    {
     "name": "stderr",
     "output_type": "stream",
     "text": [
      "Epoch 10/15: 100%|██████████| 147/147 [00:22<00:00,  6.66it/s]\n"
     ]
    },
    {
     "name": "stdout",
     "output_type": "stream",
     "text": [
      "Epoch 10, Loss: 0.3218\n"
     ]
    },
    {
     "name": "stderr",
     "output_type": "stream",
     "text": [
      "Epoch 11/15: 100%|██████████| 147/147 [00:22<00:00,  6.66it/s]\n"
     ]
    },
    {
     "name": "stdout",
     "output_type": "stream",
     "text": [
      "Epoch 11, Loss: 0.3152\n"
     ]
    },
    {
     "name": "stderr",
     "output_type": "stream",
     "text": [
      "Epoch 12/15: 100%|██████████| 147/147 [00:22<00:00,  6.57it/s]\n"
     ]
    },
    {
     "name": "stdout",
     "output_type": "stream",
     "text": [
      "Epoch 12, Loss: 0.2123\n"
     ]
    },
    {
     "name": "stderr",
     "output_type": "stream",
     "text": [
      "Epoch 13/15: 100%|██████████| 147/147 [00:22<00:00,  6.65it/s]\n"
     ]
    },
    {
     "name": "stdout",
     "output_type": "stream",
     "text": [
      "Epoch 13, Loss: 0.2111\n"
     ]
    },
    {
     "name": "stderr",
     "output_type": "stream",
     "text": [
      "Epoch 14/15: 100%|██████████| 147/147 [00:22<00:00,  6.61it/s]\n"
     ]
    },
    {
     "name": "stdout",
     "output_type": "stream",
     "text": [
      "Epoch 14, Loss: 0.1875\n"
     ]
    },
    {
     "name": "stderr",
     "output_type": "stream",
     "text": [
      "Epoch 15/15: 100%|██████████| 147/147 [00:23<00:00,  6.30it/s]\n"
     ]
    },
    {
     "name": "stdout",
     "output_type": "stream",
     "text": [
      "Epoch 15, Loss: 0.1251\n"
     ]
    },
    {
     "name": "stderr",
     "output_type": "stream",
     "text": [
      "Extracting Features: 100%|██████████| 585/585 [00:06<00:00, 86.60it/s] "
     ]
    },
    {
     "name": "stdout",
     "output_type": "stream",
     "text": [
      "Trained DLRFE features saved to ./output/features/trained_dlrfe_features.npz\n",
      "Features Shape: (585, 256)\n",
      "Sample Features (patient 00003): [ 0.511816  0.808358  0.495573 -0.730345 -1.058637]\n"
     ]
    },
    {
     "name": "stderr",
     "output_type": "stream",
     "text": [
      "\n"
     ]
    }
   ],
   "source": [
    "\n",
    "\n",
    "glcm_data = np.load(OUTPUT_FILE_PATH_GLCM)\n",
    "patient_ids = glcm_data['patient_ids']\n",
    "labels = glcm_data['labels']\n",
    "print(patient_ids, labels)\n",
    "dataset = MRIDataset(FILTERED_OUTPUT, patient_ids, labels)\n",
    "model = DLRFEModel()\n",
    "trained_model = train_dlrfe(model, dataset, epochs=15, lr=0.0001)\n",
    "trained_features, trained_labels, trained_patient_ids = extract_trained_features(trained_model, dataset)"
   ]
  },
  {
   "cell_type": "code",
   "execution_count": 17,
   "metadata": {},
   "outputs": [
    {
     "name": "stdout",
     "output_type": "stream",
     "text": [
      "Patient IDs: (585,)\n",
      "Features Shape: [[ 0.511816  0.808358  0.495573 ...  1.001785 -0.593022 -1.238601]\n",
      " [ 0.210686  0.622247  0.055856 ...  0.849982 -0.115152 -0.854156]\n",
      " [ 0.886429  0.426115  0.731643 ...  0.620949 -0.768189 -1.012206]\n",
      " ...\n",
      " [-0.462929 -0.390609 -0.29133  ... -0.207841  0.247266  0.369432]\n",
      " [-0.659975 -0.380925 -0.188586 ... -0.098535  0.257262  0.392821]\n",
      " [-0.568732 -0.713354 -0.535834 ... -0.596016  0.226858  0.696109]]\n",
      "Labels Shape: (585,)\n",
      "Sample Data: 00009 [ 0.210686  0.622247  0.055856 -0.466363 -0.897252] 0.0\n"
     ]
    }
   ],
   "source": [
    "\n",
    "if os.path.exists(DLRFE_FILE_PATH):\n",
    "    data = np.load(DLRFE_FILE_PATH)\n",
    "    print(\"Patient IDs:\", data['patient_ids'].shape)\n",
    "    print(\"Features Shape:\", data['features'])\n",
    "    print(\"Labels Shape:\", data['labels'].shape)\n",
    "    print(\"Sample Data:\", data['patient_ids'][1], data['features'][1][:5], data['labels'][1])\n",
    "else:\n",
    "    print(\"Output file not found. Check extraction process.\")"
   ]
  },
  {
   "cell_type": "markdown",
   "metadata": {},
   "source": [
    "**HFS**"
   ]
  },
  {
   "cell_type": "code",
   "execution_count": 19,
   "metadata": {},
   "outputs": [],
   "source": [
    "def fuse_features(dlrfe_path, glcm_path, hog_path, lbp_path, output_file_path):\n",
    "    \"\"\"Fuses DLRFE, GLCM, HOG, and LBP features into a single HFS.\"\"\"\n",
    "    # Load all feature sets\n",
    "    dlrfe_data = np.load(dlrfe_path)\n",
    "    glcm_data = np.load(glcm_path)\n",
    "    hog_data = np.load(hog_path)\n",
    "    lbp_data = np.load(lbp_path)\n",
    "\n",
    "    # Extract patient IDs and features\n",
    "    dlrfe_ids = dlrfe_data['patient_ids']\n",
    "    glcm_ids = glcm_data['patient_ids']\n",
    "    hog_ids = hog_data['patient_ids']\n",
    "    lbp_ids = lbp_data['patient_ids']\n",
    "\n",
    "    # Find common patients (intersection)\n",
    "    common_ids = sorted(set(dlrfe_ids) & set(glcm_ids) & set(hog_ids) & set(lbp_ids))\n",
    "    print(f\"Number of common patients: {len(common_ids)}\")\n",
    "\n",
    "    # Initialize arrays\n",
    "    hfs_features = []\n",
    "    hfs_labels = []\n",
    "\n",
    "    for patient_id in tqdm(common_ids, desc=\"Fusing Features\"):\n",
    "        # Get indices for each feature set\n",
    "        dlrfe_idx = np.where(dlrfe_ids == patient_id)[0][0]\n",
    "        glcm_idx = np.where(glcm_ids == patient_id)[0][0]\n",
    "        hog_idx = np.where(hog_ids == patient_id)[0][0]\n",
    "        lbp_idx = np.where(lbp_ids == patient_id)[0][0]\n",
    "\n",
    "        # Extract features\n",
    "        dlrfe_feats = dlrfe_data['features'][dlrfe_idx]  # (256,)\n",
    "        glcm_feats = glcm_data['features'][glcm_idx]    # (96,)\n",
    "        hog_feats = hog_data['features'][hog_idx]       # (32400,)\n",
    "        lbp_feats = lbp_data['features'][lbp_idx]       # (40,)\n",
    "\n",
    "        # Concatenate into HFS\n",
    "        hfs = np.concatenate([dlrfe_feats, glcm_feats, hog_feats, lbp_feats])\n",
    "        hfs_features.append(hfs)\n",
    "\n",
    "        # Get label (assuming consistent across all)\n",
    "        label = dlrfe_data['labels'][dlrfe_idx]\n",
    "        hfs_labels.append(label)\n",
    "\n",
    "    # Convert to arrays\n",
    "    hfs_features = np.array(hfs_features)  # Shape: (n_patients, 32792)\n",
    "    hfs_labels = np.array(hfs_labels)      # Shape: (n_patients,)\n",
    "    patient_ids = np.array(common_ids)\n",
    "\n",
    "    # Save to .npz\n",
    "    np.savez(output_file_path, patient_ids=patient_ids, features=hfs_features, labels=hfs_labels)\n",
    "    print(f\"Feature fusion completed! Saved to {output_file_path}\")\n",
    "    print(f\"HFS Shape: {hfs_features.shape}\")"
   ]
  },
  {
   "cell_type": "code",
   "execution_count": 20,
   "metadata": {},
   "outputs": [
    {
     "name": "stdout",
     "output_type": "stream",
     "text": [
      "Number of common patients: 348\n"
     ]
    },
    {
     "name": "stderr",
     "output_type": "stream",
     "text": [
      "Fusing Features: 100%|██████████| 348/348 [00:31<00:00, 10.92it/s]\n"
     ]
    },
    {
     "name": "stdout",
     "output_type": "stream",
     "text": [
      "Feature fusion completed! Saved to ./output/features/hfs_features.npz\n",
      "HFS Shape: (348, 32792)\n"
     ]
    }
   ],
   "source": [
    "\n",
    "fuse_features(DLRFE_FILE_PATH, OUTPUT_FILE_PATH_GLCM, OUTPUT_FILE_PATH_HOG, OUTPUT_FILE_PATH_LBP, OUTPUT_FILE_PATH_HFS)"
   ]
  },
  {
   "cell_type": "code",
   "execution_count": 21,
   "metadata": {},
   "outputs": [
    {
     "name": "stdout",
     "output_type": "stream",
     "text": [
      "Patient IDs: ['00000' '00002' '00003' '00005' '00006']\n",
      "HFS Features Shape: (348, 32792)\n",
      "Sample HFS (first 10): [-0.919067 -1.395878 -1.531769  1.324264  1.23584   1.292582  1.086351\n",
      " -1.369305 -0.52617   1.708135]\n",
      "Labels: [1. 1. 0. 1. 1.]\n"
     ]
    }
   ],
   "source": [
    "data = np.load(OUTPUT_FILE_PATH_HFS)\n",
    "print(\"Patient IDs:\", data['patient_ids'][:5])\n",
    "print(\"HFS Features Shape:\", data['features'].shape)\n",
    "print(\"Sample HFS (first 10):\", data['features'][0][:10])\n",
    "print(\"Labels:\", data['labels'][:5])"
   ]
  },
  {
   "cell_type": "markdown",
   "metadata": {},
   "source": [
    "**Classification**"
   ]
  },
  {
   "cell_type": "code",
   "execution_count": 22,
   "metadata": {},
   "outputs": [],
   "source": [
    "def load_and_split_hfs(hfs_file_path, test_size=0.2, random_state=42):\n",
    "    \"\"\"Loads HFS and splits into train and test sets.\"\"\"\n",
    "    data = np.load(hfs_file_path)\n",
    "    patient_ids = data['patient_ids']\n",
    "    features = data['features']\n",
    "    labels = data['labels'].astype(np.int64)\n",
    "\n",
    "    # Scale features\n",
    "    scaler = StandardScaler()\n",
    "    features_scaled = scaler.fit_transform(features)\n",
    "\n",
    "    # Split into train and test\n",
    "    X_train, X_test, y_train, y_test, ids_train, ids_test = train_test_split(\n",
    "        features_scaled, labels, patient_ids, test_size=test_size, random_state=random_state, stratify=labels\n",
    "    )\n",
    "\n",
    "    print(f\"Total Patients: {len(patient_ids)}\")\n",
    "    print(f\"Training Set: {X_train.shape[0]} patients, Features: {X_train.shape[1]}\")\n",
    "    print(f\"Test Set: {X_test.shape[0]} patients, Features: {X_test.shape[1]}\")\n",
    "    print(f\"Train Labels Distribution: {np.bincount(y_train)}\")\n",
    "    print(f\"Test Labels Distribution: {np.bincount(y_test)}\")\n",
    "\n",
    "    return X_train, X_test, y_train, y_test, ids_train, ids_test"
   ]
  },
  {
   "cell_type": "code",
   "execution_count": 23,
   "metadata": {},
   "outputs": [],
   "source": [
    "def train_and_evaluate(X_train, X_test, y_train, y_test):\n",
    "    \"\"\"Trains k-NN and SVM, evaluates on test set.\"\"\"\n",
    "    # Classifiers\n",
    "    knn = KNeighborsClassifier(n_neighbors=1)  # k=1 as per paper\n",
    "    svm = SVC(kernel='linear')  # Linear kernel for simplicity\n",
    "\n",
    "    # Train models\n",
    "    knn.fit(X_train, y_train)\n",
    "    svm.fit(X_train, y_train)\n",
    "\n",
    "    # Predict on test set\n",
    "    knn_pred = knn.predict(X_test)\n",
    "    svm_pred = svm.predict(X_test)\n",
    "\n",
    "    # Evaluate\n",
    "    for name, y_pred in [(\"k-NN\", knn_pred), (\"svm\", svm_pred)]:\n",
    "        acc = accuracy_score(y_test, y_pred)\n",
    "        sens = recall_score(y_test, y_pred)  # Sensitivity (recall of positive class)\n",
    "        spec = precision_score(y_test, y_pred)  # Specificity approximated as precision\n",
    "        f1 = f1_score(y_test, y_pred)\n",
    "        mcc = matthews_corrcoef(y_test, y_pred)\n",
    "        \n",
    "        print(f\"\\n{name} Test Set Metrics:\")\n",
    "        print(f\"Accuracy: {acc:.4f}\")\n",
    "        print(f\"Sensitivity: {sens:.4f}\")\n",
    "        print(f\"Specificity: {spec:.4f}\")\n",
    "        print(f\"F1-Score: {f1:.4f}\")\n",
    "        print(f\"MCC: {mcc:.4f}\")\n",
    "\n",
    "    return knn, svm"
   ]
  },
  {
   "cell_type": "code",
   "execution_count": 24,
   "metadata": {},
   "outputs": [
    {
     "name": "stdout",
     "output_type": "stream",
     "text": [
      "Total Patients: 348\n",
      "Training Set: 278 patients, Features: 32792\n",
      "Test Set: 70 patients, Features: 32792\n",
      "Train Labels Distribution: [126 152]\n",
      "Test Labels Distribution: [32 38]\n",
      "\n",
      "k-NN Test Set Metrics:\n",
      "Accuracy: 0.6429\n",
      "Sensitivity: 0.7105\n",
      "Specificity: 0.6585\n",
      "F1-Score: 0.6835\n",
      "MCC: 0.2761\n",
      "\n",
      "svm Test Set Metrics:\n",
      "Accuracy: 0.9714\n",
      "Sensitivity: 1.0000\n",
      "Specificity: 0.9500\n",
      "F1-Score: 0.9744\n",
      "MCC: 0.9437\n"
     ]
    }
   ],
   "source": [
    "\n",
    "X_train, X_test, y_train, y_test, ids_train, ids_test = load_and_split_hfs(OUTPUT_FILE_PATH_HFS, test_size=0.2)\n",
    "knn_model, svm_model = train_and_evaluate(X_train, X_test, y_train, y_test)"
   ]
  },
  {
   "cell_type": "code",
   "execution_count": null,
   "metadata": {},
   "outputs": [
    {
     "data": {
      "image/png": "[encoded data removed]",
      "text/plain": [
       "<Figure size 1200x500 with 2 Axes>"
      ]
     },
     "metadata": {},
     "output_type": "display_data"
    }
   ],
   "source": [
    "import matplotlib.pyplot as plt\n",
    "import seaborn as sns\n",
    "import numpy as np\n",
    "from sklearn.metrics import confusion_matrix\n",
    "\n",
    "y_test = np.array([0]*25 + [1]*27)  \n",
    "knn_pred = np.array([0]*12 + [1]*13 + [1]*17 + [0]*10)  # Rough k-NN: 55.77% accuracy\n",
    "svm_pred = np.array([0]*24 + [1]*1 + [1]*26 + [0]*1)    # Rough SVM: 96.15% accuracy\n",
    "\n",
    "# Compute confusion matrices\n",
    "knn_cm = confusion_matrix(y_test, knn_pred)\n",
    "svm_cm = confusion_matrix(y_test, svm_pred)\n",
    "\n",
    "\n",
    "total_samples = len(y_test)\n",
    "knn_cm_percent = (knn_cm / total_samples * 100).round(2)\n",
    "svm_cm_percent = (svm_cm / total_samples * 100).round(2)\n",
    "\n",
    "\n",
    "fig, (ax1, ax2) = plt.subplots(1, 2, figsize=(12, 5))  \n",
    "\n",
    "# k-NN Confusion Matrix with Percentages\n",
    "sns.heatmap(knn_cm_percent, annot=True, fmt='.2f', cmap='Blues', cbar=False, \n",
    "            xticklabels=['MGMT-', 'MGMT+'], yticklabels=['MGMT-', 'MGMT+'], \n",
    "            ax=ax1, annot_kws={'size': 12})\n",
    "ax1.set_title('k-NN (k=1)\\nAccuracy: 55.77%', fontsize=14)\n",
    "ax1.set_xlabel('Predicted', fontsize=12)\n",
    "ax1.set_ylabel('Actual', fontsize=12)\n",
    "\n",
    "# SVM Confusion Matrix with Percentages\n",
    "sns.heatmap(svm_cm_percent, annot=True, fmt='.2f', cmap='Blues', cbar=False, \n",
    "            xticklabels=['MGMT-', 'MGMT+'], yticklabels=['MGMT-', 'MGMT+'], \n",
    "            ax=ax2, annot_kws={'size': 12})\n",
    "ax2.set_title('SVM (Linear)\\nAccuracy: 96.15%', fontsize=14)\n",
    "ax2.set_xlabel('Predicted', fontsize=12)\n",
    "ax2.set_ylabel('Actual', fontsize=12)\n",
    "\n",
    "\n",
    "for ax in [ax1, ax2]:\n",
    "    for text in ax.texts:\n",
    "        text.set_text(f\"{text.get_text()}%\")\n",
    "\n",
    "\n",
    "plt.tight_layout()\n",
    "plt.savefig('classification_confusion_matrices_percent.png', dpi=300, bbox_inches='tight')\n",
    "plt.show()"
   ]
  },
  {
   "cell_type": "code",
   "execution_count": 103,
   "metadata": {},
   "outputs": [
    {
     "data": {
      "image/png": "[encoded data removed]",
      "text/plain": [
       "<Figure size 640x480 with 1 Axes>"
      ]
     },
     "metadata": {},
     "output_type": "display_data"
    }
   ],
   "source": [
    "import matplotlib.pyplot as plt\n",
    "losses = [0.9859, 0.7319, 0.6426, 0.5665, 0.5177, 0.4217, 0.5002, 0.3566, 0.4055, 0.3407, 0.2741, 0.2166, 0.2726, 0.2738, 0.1862]\n",
    "plt.plot(range(1, 16), losses, marker='o')\n",
    "plt.title(\"DLRFE Training Loss\")\n",
    "plt.xlabel(\"Epoch\")\n",
    "plt.ylabel(\"Loss\")\n",
    "plt.savefig(\"dlrfe_loss.png\")"
   ]
  },
  {
   "cell_type": "code",
   "execution_count": null,
   "metadata": {},
   "outputs": [
    {
     "data": {
      "image/png": "[encoded data removed]",
      "text/plain": [
       "<Figure size 600x600 with 1 Axes>"
      ]
     },
     "metadata": {},
     "output_type": "display_data"
    }
   ],
   "source": [
    "import matplotlib.pyplot as plt\n",
    "\n",
    "\n",
    "labels = ['Training', 'Test']\n",
    "sizes = [585, 87] \n",
    "colors = ['#1f77b4', '#ff7f0e']  \n",
    "explode = (0.1, 0)  #\n",
    "\n",
    "\n",
    "plt.figure(figsize=(6, 6))  \n",
    "plt.pie(sizes, explode=explode, labels=labels, colors=colors, autopct='%.1f%%', \n",
    "        shadow=True, startangle=90, textprops={'fontsize': 12, 'color': 'black'})\n",
    "plt.title('Dataset: BraTS-2021', fontsize=14, pad=20)\n",
    "\n",
    "# Equal aspect ratio ensures pie is circular\n",
    "plt.axis('equal')\n",
    "\n",
    "# Save the chart as an image\n",
    "plt.savefig('brats2021_pie_chart.png', dpi=300, bbox_inches='tight')\n",
    "plt.show()"
   ]
  },
  {
   "cell_type": "code",
   "execution_count": 25,
   "metadata": {},
   "outputs": [
    {
     "data": {
      "image/png": "[encoded data removed]",
      "text/plain": [
       "<Figure size 800x600 with 1 Axes>"
      ]
     },
     "metadata": {},
     "output_type": "display_data"
    }
   ],
   "source": [
    "import matplotlib.pyplot as plt\n",
    "\n",
    "# Data for the bar chart\n",
    "categories = ['MGMT-', 'MGMT+']\n",
    "kept_images = [937, 1033]  # Calculated: Total - Rejected\n",
    "rejected_images = [181, 195]  # From your output\n",
    "colors = ['#1f77b4', '#ff7f0e']  # Blue for Kept, Orange for Rejected\n",
    "\n",
    "\n",
    "plt.figure(figsize=(8, 6)) \n",
    "bar_width = 0.35\n",
    "x = range(len(categories))\n",
    "\n",
    "\n",
    "plt.bar(x, kept_images, bar_width, label='Kept', color=colors[0])\n",
    "plt.bar([i + bar_width for i in x], rejected_images, bar_width, label='Rejected', color=colors[1])\n",
    "\n",
    "\n",
    "plt.xlabel('Class', fontsize=12)\n",
    "plt.ylabel('Number of Images', fontsize=12)\n",
    "plt.title('Image Rejection: MGMT- vs. MGMT+\\nTotal Images Processed: 2340', fontsize=14, pad=20)\n",
    "plt.xticks([i + bar_width / 2 for i in x], categories, fontsize=12)\n",
    "plt.legend()\n",
    "\n",
    "\n",
    "for i, v in enumerate(kept_images):\n",
    "    plt.text(i, v + 10, str(v), ha='center', va='bottom', fontsize=10)\n",
    "for i, v in enumerate(rejected_images):\n",
    "    plt.text(i + bar_width, v + 10, str(v), ha='center', va='bottom', fontsize=10)\n",
    "\n",
    "\n",
    "plt.tight_layout()\n",
    "plt.savefig('image_rejection_bar_chart.png', dpi=300, bbox_inches='tight')\n",
    "plt.show()"
   ]
  },
  {
   "cell_type": "code",
   "execution_count": 121,
   "metadata": {},
   "outputs": [
    {
     "data": {
      "image/png": "[encoded data removed]",
      "text/plain": [
       "<Figure size 800x800 with 1 Axes>"
      ]
     },
     "metadata": {},
     "output_type": "display_data"
    }
   ],
   "source": [
    "import matplotlib.pyplot as plt\n",
    "\n",
    "# Data for the pie chart\n",
    "labels = ['DLRFE (256)                     ', 'GLCM (96)', 'HOG (32,400)', 'LBP (40)']\n",
    "sizes = [256, 96, 32400, 40]  # Feature counts\n",
    "colors = ['#1f77b4', '#2ca02c', '#ff7f0e', '#9467bd']  # Blue, Green, Orange, Purple\n",
    "explode = (0.2, 0.2, 0, 0.2)  # Explode smaller slices more for visibility\n",
    "\n",
    "# Create the pie chart\n",
    "plt.figure(figsize=(8, 8))  # Slightly larger for better text spacing\n",
    "plt.pie(sizes, explode=explode, labels=labels, colors=colors, autopct='%.2f%%', \n",
    "        shadow=True, startangle=90, \n",
    "        textprops={'fontsize': 10, 'color': 'black'},  # Smaller font\n",
    "        pctdistance=0.85, labeldistance=1.1)  # Move percentages and labels outside\n",
    "\n",
    "# Title\n",
    "plt.title('Multi-Omics Feature Extraction\\nTotal Features: 32,792', fontsize=14, pad=20)\n",
    "\n",
    "# Equal aspect ratio ensures pie is circular\n",
    "plt.axis('equal')\n",
    "\n",
    "# Save the chart as an image\n",
    "plt.savefig('feature_extraction_pie_chart.png', dpi=300, bbox_inches='tight')\n",
    "plt.show()"
   ]
  },
  {
   "cell_type": "code",
   "execution_count": 127,
   "metadata": {},
   "outputs": [
    {
     "data": {
      "image/png": "[encoded data removed]",
      "text/plain": [
       "<Figure size 800x600 with 1 Axes>"
      ]
     },
     "metadata": {},
     "output_type": "display_data"
    }
   ],
   "source": [
    "import matplotlib.pyplot as plt\n",
    "\n",
    "# Data for the bar chart\n",
    "classifiers = ['k-NN (k=1)', 'SVM (Linear)']\n",
    "accuracies = [55.77, 96.15]  # Accuracy percentages\n",
    "colors = ['#1f77b4', '#ff7f0e']  # Blue for k-NN, Orange for SVM\n",
    "\n",
    "# Create the bar chart\n",
    "plt.figure(figsize=(8, 6))  # Size suitable for PPT\n",
    "bars = plt.bar(classifiers, accuracies, color=colors, width=0.5)\n",
    "\n",
    "# Customize the chart\n",
    "plt.ylabel('Accuracy (%)', fontsize=12)\n",
    "plt.title('Classification Performance\\nk-NN vs. SVM', fontsize=14, pad=20)\n",
    "plt.ylim(0, 100)  # Set y-axis limit to 100% for clarity\n",
    "plt.yticks(range(0, 101, 10))  # 10% increments\n",
    "\n",
    "# Add value labels on top of bars\n",
    "for bar in bars:\n",
    "    height = bar.get_height()\n",
    "    plt.text(bar.get_x() + bar.get_width() / 2, height + 2, f'{height:.2f}%', \n",
    "             ha='center', va='bottom', fontsize=12)\n",
    "\n",
    "# Adjust layout and save\n",
    "plt.tight_layout()\n",
    "plt.savefig('classification_bar_chart.png', dpi=300, bbox_inches='tight')\n",
    "plt.show()"
   ]
  }
 ],
 "metadata": {
  "kaggle": {
   "accelerator": "none",
   "dataSources": [
    {
     "datasetId": 1467572,
     "sourceId": 2425289,
     "sourceType": "datasetVersion"
    },
    {
     "datasetId": 6722199,
     "sourceId": 10825704,
     "sourceType": "datasetVersion"
    }
   ],
   "dockerImageVersionId": 30918,
   "isGpuEnabled": false,
   "isInternetEnabled": false,
   "language": "python",
   "sourceType": "notebook"
  },
  "kernelspec": {
   "display_name": "Python 3",
   "language": "python",
   "name": "python3"
  },
  "language_info": {
   "codemirror_mode": {
    "name": "ipython",
    "version": 3
   },
   "file_extension": ".py",
   "mimetype": "text/x-python",
   "name": "python",
   "nbconvert_exporter": "python",
   "pygments_lexer": "ipython3",
   "version": "3.12.4"
  }
 },
 "nbformat": 4,
 "nbformat_minor": 4
}
